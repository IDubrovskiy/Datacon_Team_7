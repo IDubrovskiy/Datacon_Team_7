{
 "cells": [
  {
   "cell_type": "code",
   "execution_count": 12,
   "metadata": {
    "datalore": {
     "hide_input_from_viewers": false,
     "hide_output_from_viewers": false,
     "node_id": "idfJp2Jo8G40M8YhQYv9uH",
     "type": "CODE"
    }
   },
   "outputs": [],
   "source": [
    "#Импорт библиотек\n",
    "import pandas as pd\n",
    "import numpy as np\n",
    "import chemparse as cp\n",
    "from pymatgen.core.composition import Composition\n",
    "from pymatgen.core.periodic_table import Species"
   ]
  },
  {
   "cell_type": "code",
   "execution_count": 13,
   "metadata": {
    "datalore": {
     "hide_input_from_viewers": false,
     "hide_output_from_viewers": false,
     "node_id": "JNKca1wrsh48bUprhgBcKv",
     "type": "CODE"
    }
   },
   "outputs": [],
   "source": [
    "#Записываем все базы данных в переменные\n",
    "db1 = pd.read_excel('Database_1.xlsx')\n",
    "db2 = pd.read_excel('Database_2.xlsx')\n",
    "db3 = pd.read_excel('Database_3.xlsx')\n",
    "db4 = pd.read_excel('Database_4.xlsx')\n",
    "db5 = pd.read_excel('Database_5.xlsx')"
   ]
  },
  {
   "cell_type": "code",
   "execution_count": 14,
   "metadata": {
    "datalore": {
     "hide_input_from_viewers": false,
     "hide_output_from_viewers": false,
     "node_id": "Dc9acaE2081BTpA6tuZfdw",
     "type": "CODE"
    }
   },
   "outputs": [],
   "source": [
    "#Данная функция на основании формулы вещества рассчитывает плотность заряда, которая равна среднему отношению ионного радиуса к степени окисления\n",
    "def db_fill(data, row):  \n",
    "    ir_sum = 0\n",
    "    n = 0\n",
    "    el = Composition(cp.parse_formula(data.loc[row, 'nanoparticle'])).oxi_state_guesses()\n",
    "    if len(el) == 0:\n",
    "        return 0\n",
    "    elements_list = el[0]\n",
    "    for i in elements_list.keys():\n",
    "        os = elements_list[i]\n",
    "        el = Species(i)\n",
    "        ir = el.average_ionic_radius / os\n",
    "        ir_sum += ir\n",
    "        n += 1\n",
    "    return(ir_sum/n)"
   ]
  },
  {
   "cell_type": "code",
   "execution_count": 15,
   "metadata": {
    "datalore": {
     "hide_input_from_viewers": false,
     "hide_output_from_viewers": false,
     "node_id": "iOFYiPOhhLJNTqVJ6ST2kF",
     "type": "CODE"
    }
   },
   "outputs": [],
   "source": [
    "#Переименовали колонки во второй базе данных, а также убрали лишние\n",
    "db2.rename(columns = {'Nanoparticle': 'nanoparticle', 'Concentration μM': 'concentration_ug/mL',\n",
    "                      '% Cell viability' : 'viability_%', 'coat': 'coating', 'Diameter (nm)': 'size_nm',\n",
    "                      'Zeta potential (mV)': 'surface_charge_mV', 'Cells': 'cell_type', \n",
    "                      'Cell line (L)/primary cells (P)': 'cell_line', 'Human(H)/Animal(A) cells': 'animal',\n",
    "                      'Cell morphology': 'cell_morphology', 'Exposure time (h)': 'time_h', 'Test': 'test', \n",
    "                      'Type: Organic (O)/inorganic (I)': 'organic'}, inplace = True)\n",
    "\n",
    "db2 = db2.drop(columns=['Animal?', 'Test indicator', 'Biochemical metric', 'Publication year', 'Particle ID', 'Reference DOI', \n",
    "                        'Interference checked (Y/N)', 'Colloidal stability checked (Y/N)', 'Positive control (Y/N)',\n",
    "                        'Cell age: embryonic (E), Adult (A)', 'Cell-organ/tissue source'])"
   ]
  },
  {
   "cell_type": "code",
   "execution_count": 16,
   "metadata": {
    "datalore": {
     "hide_input_from_viewers": false,
     "hide_output_from_viewers": false,
     "node_id": "jgiFyiqkQx4rBMyQQo4pXy",
     "type": "CODE"
    }
   },
   "outputs": [],
   "source": [
    "#Исправили некорректные значения\n",
    "NP_db2 = {'Zinc oxide': 'ZnO', 'Copper Oxide': 'CuO',  'Iron oxide': 'Fe2O3', 'Hydroxyapatite': 'Ca10(PO4)6(OH)2', 'QDs': 'C'}\n",
    "db2['nanoparticle'].replace(NP_db2, inplace = True)\n",
    "db2.loc[21, 'cell_morphology'] = 'Endothelial'"
   ]
  },
  {
   "cell_type": "code",
   "execution_count": 17,
   "metadata": {
    "datalore": {
     "hide_input_from_viewers": false,
     "hide_output_from_viewers": false,
     "node_id": "tR5NJ4uUUNbwFpo5oMMHnp",
     "type": "CODE"
    }
   },
   "outputs": [],
   "source": [
    "#Добавили молярную массу и электроотрицательность для частиц с формулой\n",
    "db2['molar_mass'] = [Composition(cp.parse_formula(db2.loc[x, 'nanoparticle'])).weight if x < 2274 else np.nan for x in range(2896)]\n",
    "db2['electronegativity'] = [Composition(cp.parse_formula(db2.loc[x, 'nanoparticle'])).average_electroneg if x < 2274 else np.nan for x in range(2896)]"
   ]
  },
  {
   "cell_type": "code",
   "execution_count": 18,
   "metadata": {
    "datalore": {
     "hide_input_from_viewers": false,
     "hide_output_from_viewers": false,
     "node_id": "9t7I0iA1CP4uMFN4iR3O7l",
     "type": "CODE"
    }
   },
   "outputs": [],
   "source": [
    "#Добавили молярную массу для остальных частиц\n",
    "db2.loc[db2.nanoparticle == 'Eudragit RL', 'molar_mass'] = 231.29\n",
    "db2.loc[db2.nanoparticle == 'Dendrimer', 'molar_mass'] = 516.7\n",
    "db2.loc[db2.nanoparticle == 'PLGA', 'molar_mass'] = 148.11\n",
    "db2.loc[db2.nanoparticle == 'Polystyrene', 'molar_mass'] = 104.1\n",
    "db2.loc[db2.nanoparticle == 'Liposomes', 'molar_mass'] = 938.1\n",
    "db2.loc[db2.nanoparticle == 'Carbon Nanotubes', 'molar_mass'] = 12.01\n",
    "db2.loc[db2.nanoparticle == 'Carbon NP', 'molar_mass'] = 12.01\n",
    "db2.loc[db2.nanoparticle == 'Chitosan', 'molar_mass'] = 501.5\n",
    "db2.loc[db2.nanoparticle == 'SLN', 'molar_mass'] = db2.molar_mass.mean()"
   ]
  },
  {
   "cell_type": "code",
   "execution_count": 19,
   "metadata": {
    "datalore": {
     "hide_input_from_viewers": false,
     "hide_output_from_viewers": false,
     "node_id": "N3jfevCCIr77wNLpiStahR",
     "type": "CODE"
    }
   },
   "outputs": [],
   "source": [
    "#Перевели концентрацию в нужные единицы измерения\n",
    "db2['concentration_ug/mL'] = db2['concentration_ug/mL'] * db2['molar_mass'] / 1000"
   ]
  },
  {
   "cell_type": "code",
   "execution_count": 20,
   "metadata": {
    "datalore": {
     "hide_input_from_viewers": false,
     "hide_output_from_viewers": false,
     "node_id": "1hAFmEAWwey7CMDogg4MZU",
     "type": "CODE"
    }
   },
   "outputs": [],
   "source": [
    "#Добавили плотность заряда для частиц с формулой\n",
    "db2['charge_density'] = [db_fill(db2, x) if x < 2274 else np.nan for x in range(2896)]"
   ]
  },
  {
   "cell_type": "code",
   "execution_count": 21,
   "metadata": {
    "datalore": {
     "hide_input_from_viewers": false,
     "hide_output_from_viewers": false,
     "node_id": "FYgUxOcsxkGHu4nlc0eQw8",
     "type": "CODE"
    }
   },
   "outputs": [],
   "source": [
    "#Исправили некорректные значения для четвертой базы данных\n",
    "db4.loc[[24, 493], 'Material type'] = 'ZnO'\n",
    "db4.loc[126, 'Material type'] = 'Al2O3'\n",
    "db4.loc[6, 'Hydro size (nm)'] = 202.8\n",
    "\n",
    "#Объединили первую и четвертую базы данных\n",
    "db14 = pd.concat([db1, db4], ignore_index=True, sort=False)\n",
    "\n",
    "#В объединенной базе данных добавили новые дескрипторы с дефолтными значениями\n",
    "db14['organic'] = 1\n",
    "db14['time_h'] = 24\n",
    "db14['animal'] = 1\n",
    "db14['coating'] = 'None'\n",
    "db14['test'] = 'Unknown'\n",
    "db14['cell_line'] = 'Unknown'\n",
    "db14['cell_morphology'] = 'Epithelial'\n",
    "\n",
    "#Переименовали колонки, а также убрали лишние\n",
    "db14 = db14.drop(['Elements', 'Electronegativity', 'Ionic radius', 'Core size (nm)',\n",
    "                  'Surface area (m2/g)', 'Number of atoms', 'Molecular weight (g/mol)', \n",
    "                  'Topological polar surface area (Å²)', 'a (Å)', 'b (Å)', 'c (Å)', 'α (°)', 'β (°)', 'γ (°)', 'Density (g/cm3)'], axis=1)\n",
    "db14 = db14.rename(columns={'Material type': 'nanoparticle', 'Hydro size (nm)': 'size_nm', \n",
    "                            'Surface charge (mV)': 'surface_charge_mV', 'Cell type': 'cell_type', \n",
    "                            'Exposure dose (ug/mL)': 'concentration_ug/mL', 'Viability (%)': 'viability_%'})\n",
    "\n",
    "#Исправляем значения\n",
    "db14.loc[203, 'size_nm'] = 114.7\n",
    "db14.loc[884, 'size_nm'] = 230.5\n",
    "db14.loc[[884, 620], 'surface_charge_mV'] = 0.0\n",
    "db14.loc[647, 'concentration_ug/mL'] = 37.5\n",
    "\n",
    "#Добавили молярную массу для частиц с формулой\n",
    "db14['molar_mass'] = [Composition(cp.parse_formula(db14.loc[x, 'nanoparticle'])).weight for x in range(1562)]\n",
    "db14['electronegativity'] = [Composition(cp.parse_formula(db14.loc[x, 'nanoparticle'])).average_electroneg for x in range(1562)]\n",
    "db14['charge_density'] = [db_fill(db14, x) for x in range(1562)]"
   ]
  },
  {
   "cell_type": "code",
   "execution_count": 22,
   "metadata": {
    "datalore": {
     "hide_input_from_viewers": false,
     "hide_output_from_viewers": false,
     "node_id": "jPFU0cV9mWGxi6fGAzyxdf",
     "type": "CODE"
    }
   },
   "outputs": [],
   "source": [
    "#Переименовали колонки, а также убрали лишние для базы данных 5\n",
    "db5 = db5.drop(['core_size', 'surf_area', 'toxicity'], axis=1)\n",
    "db5 = db5.rename(columns={'material': 'nanoparticle', 'hydro_size': 'size_nm', \n",
    "                            'surf_charge': 'surface_charge_mV', 'dose': 'concentration_ug/mL', \n",
    "                            'cell_species': 'animal', 'viability': 'viability_%', 'time': 'time_h'})\n",
    "\n",
    "#Добавили новые дескрипторы с дефолтными значениями\n",
    "db5['coating'] = 'None'\n",
    "db5['test'] = 'Unknown'\n",
    "db5['organic'] = 1\n",
    "db5['cell_morphology'] = 'Epithelial'\n",
    "db5['cell_line'] = 'Unknown'\n",
    "\n",
    "#Исправили значения\n",
    "db5.loc[21, 'surface_charge_mV'] = 42.8\n",
    "\n",
    "#Добавили молярную массу для частиц с формулой\n",
    "db5['molar_mass'] = [Composition(cp.parse_formula(db5.loc[x, 'nanoparticle'])).weight for x in range(574)]\n",
    "db5['electronegativity'] = [Composition(cp.parse_formula(db5.loc[x, 'nanoparticle'])).average_electroneg for x in range(574)]\n",
    "db5['charge_density'] = [db_fill(db5, x) for x in range(574)]"
   ]
  },
  {
   "cell_type": "code",
   "execution_count": 23,
   "metadata": {
    "datalore": {
     "hide_input_from_viewers": false,
     "hide_output_from_viewers": false,
     "node_id": "ZbPQ5roTnGclFi9H9v2l9z",
     "type": "CODE"
    }
   },
   "outputs": [],
   "source": [
    "#SLN - Solid lipid nanoparticles, QD - Quantum dots, PLGA - Polyester, PTFE-PMMA - polytetrafluoroethylene-poly(methyl methacrylate) \n",
    "#MWCNT - Multi-walled Carbon Nanotubes, SWCNT - Single-wall carbon nanotubes, EudragitRL - copolymer\n",
    "\n",
    "#Переименовали колонки, а также убрали лишние для базы данных 3\n",
    "db3 = db3.rename(columns={'Material': 'nanoparticle', 'Type': 'organic', 'Coat/Functional Group': 'coating', \n",
    "                          'Size_in_Water (nm)': 'size_nm', 'Zeta_in_Water (mV)': 'surface_charge_mV', \n",
    "                          'Cell_Type': 'cell_type', 'Human_Animal': 'animal', 'Time (hr)': 'time_h', \n",
    "                          'Concentration (ug/ml)': 'concentration_ug/mL', 'Test': 'test', \n",
    "                          'Cell_Viability (%)': 'viability_%', 'Cell Line_Primary Cell': 'cell_line',\n",
    "                          'Cell_Morphology': 'cell_morphology', 'Cell_Tissue': 'cell_origin'})\n",
    "\n",
    "db3 = db3.drop(columns=['No', 'Year', 'DOI', 'Article_ID', 'PDI', 'No_of_Cells (cells/well)', 'Aspect_Ratio', \n",
    "                        'Shape', 'Synthesis_Method', 'Surface_Charge', 'Cell_Source','Cell_Age', 'Test_Indicator'])\n",
    "\n",
    "#Исправили значения\n",
    "material = {'IronOxide':'Fe2O3', 'Dendrmer':'Dendrimer', 'Ay':'Fe', 'Ce O2': 'CeO2', 'IronOide':'Fe2O3', 'QD': 'C', 'HAP': 'Ca10(PO4)6(OH)2'}\n",
    "db3['nanoparticle'].replace(material, inplace=True) \n",
    "db3.loc[320, 'surface_charge_mV'] = 150 \n",
    "db3['surface_charge_mV'] = pd.to_numeric(db3['surface_charge_mV'])\n",
    "\n",
    "#Так как не везде у нас есть размер для воды, то там где его нет он был заменен на размер в растворителе, а если и его не было то просто на размер \n",
    "db3.loc[np.isnan(db3[\"Size_in_Medium (nm)\"]), \"Size_in_Medium (nm)\"] = db3.loc[np.isnan(db3[\"Size_in_Medium (nm)\"]), \"Diameter (nm)\"]\n",
    "db3.loc[np.isnan(db3[\"size_nm\"]), \"size_nm\"] = db3.loc[np.isnan(db3[\"size_nm\"]), \"Size_in_Medium (nm)\"]\n",
    "db3 = db3.drop(['Size_in_Medium (nm)', 'Diameter (nm)'], axis=1)\n",
    "\n",
    "#Аналогично было сделано для заряда\n",
    "db3.loc[np.isnan(db3[\"surface_charge_mV\"]), \"surface_charge_mV\"] = db3.loc[np.isnan(db3[\"surface_charge_mV\"]), \"Zeta_in_Medium (mV)\"]\n",
    "db3 = db3.drop(['Zeta_in_Medium (mV)'], axis=1)"
   ]
  },
  {
   "cell_type": "code",
   "execution_count": 24,
   "metadata": {
    "datalore": {
     "hide_input_from_viewers": false,
     "hide_output_from_viewers": false,
     "node_id": "5hzYVg16765GjzZgEjsPAH",
     "type": "CODE"
    }
   },
   "outputs": [],
   "source": [
    "#Добавили молярную массу для частиц без формулы\n",
    "db3.loc[db3.nanoparticle == 'Dendrimer', 'molar_mass'] = 516.7\n",
    "db3.loc[db3.nanoparticle == 'PLGA', 'molar_mass'] = 148.11\n",
    "db3.loc[db3.nanoparticle == 'Alginate', 'molar_mass'] = 216.12\n",
    "db3.loc[db3.nanoparticle == 'PTFE-PMMA', 'molar_mass'] = 100.12\n",
    "db3.loc[db3.nanoparticle == 'Dendrimer', 'molar_mass'] = 516.7\n",
    "db3.loc[db3.nanoparticle == 'MWCNT', 'molar_mass'] = 12.01\n",
    "db3.loc[db3.nanoparticle == 'Polystyrene', 'molar_mass'] = 104.1\n",
    "db3.loc[db3.nanoparticle == 'Chitosan', 'molar_mass'] = 501.5\n",
    "db3.loc[db3.nanoparticle == 'EudragitRL', 'molar_mass'] = 231.29\n",
    "db3.loc[db3.nanoparticle == 'Carbon', 'molar_mass'] = 12.01\n",
    "db3.loc[db3.nanoparticle == 'SWCNT', 'molar_mass'] = 12.01\n",
    "db3.loc[db3.nanoparticle == 'MWCNT', 'molar_mass'] = 12.01\n",
    "db3.loc[db3.nanoparticle == 'Diamond', 'molar_mass'] = 12.01\n",
    "db3.loc[db3.nanoparticle == 'C70', 'molar_mass'] = 840.7\n",
    "db3.loc[db3.nanoparticle == 'C60', 'molar_mass'] = 720.66\n",
    "db3.loc[db3.nanoparticle == 'Graphite', 'molar_mass'] = 12.01\n",
    "db3.loc[db3.nanoparticle == 'SLN', 'molar_mass'] = db3.molar_mass.mean()"
   ]
  },
  {
   "cell_type": "code",
   "execution_count": 25,
   "metadata": {
    "datalore": {
     "hide_input_from_viewers": false,
     "hide_output_from_viewers": false,
     "node_id": "mhT8aQC6arCLWVzpXUZkXQ",
     "type": "CODE"
    }
   },
   "outputs": [],
   "source": [
    "#Добавили молярную массу для частиц с формулой\n",
    "db3['molar_mass'] = [Composition(cp.parse_formula(db3.loc[x, 'nanoparticle'])).weight \n",
    "if np.isnan(db3.loc[x, 'molar_mass']) else db3.loc[x, 'molar_mass'] for x in range(4111)]"
   ]
  },
  {
   "cell_type": "code",
   "execution_count": 26,
   "metadata": {
    "datalore": {
     "hide_input_from_viewers": false,
     "hide_output_from_viewers": false,
     "node_id": "jI8REaGWLFW2BLsFr6t1ME",
     "type": "CODE"
    }
   },
   "outputs": [],
   "source": [
    "#Создали массив частиц для которых нет явной формулы и нельзя найти электроотрицательность и плотность заряда\n",
    "org = ['Dendrimer', 'PLGA', 'Alginate', 'PTFE-PMMA', 'Dendrimer', 'MWCNT', 'Polystyrene', 'Chitosan', 'EudragitRL', 'Carbon', 'SWCNT',\n",
    "       'MWCNT', 'Diamond', 'C70', 'C60', 'Graphite', 'SLN']"
   ]
  },
  {
   "cell_type": "code",
   "execution_count": 27,
   "metadata": {
    "datalore": {
     "hide_input_from_viewers": false,
     "hide_output_from_viewers": false,
     "node_id": "fRLy4qTfszDlzKky7ep6pe",
     "type": "CODE"
    }
   },
   "outputs": [],
   "source": [
    "#Добавили электроотрицательность для частиц с формулой\n",
    "db3['electronegativity'] = [Composition(cp.parse_formula(db3.loc[x, 'nanoparticle'])).average_electroneg if db3.loc[x, 'nanoparticle'] not in org else np.nan for x in range(4111)]"
   ]
  },
  {
   "cell_type": "code",
   "execution_count": 28,
   "metadata": {
    "datalore": {
     "hide_input_from_viewers": false,
     "hide_output_from_viewers": false,
     "node_id": "X8odznrdqSKO4Bkf7v3mNW",
     "type": "CODE"
    }
   },
   "outputs": [],
   "source": [
    "#Добавили плотность заряда для частиц с формулой\n",
    "db3['charge_density'] = [db_fill(db3, x) if db3.loc[x, 'nanoparticle'] not in org else np.nan for x in range(4111)]"
   ]
  },
  {
   "cell_type": "code",
   "execution_count": 29,
   "metadata": {
    "datalore": {
     "hide_input_from_viewers": false,
     "hide_output_from_viewers": false,
     "node_id": "rgMd3sXMWppTkxTfmxsFOs",
     "type": "CODE"
    }
   },
   "outputs": [],
   "source": [
    "#Собрали все базы данных в одну\n",
    "db_final = pd.concat([db14, db5, db2, db3], ignore_index=True, sort=False)"
   ]
  },
  {
   "cell_type": "code",
   "execution_count": 30,
   "metadata": {
    "datalore": {
     "hide_input_from_viewers": false,
     "hide_output_from_viewers": false,
     "node_id": "KYNA80C4tihh1hL1bcQ6hC",
     "type": "CODE"
    }
   },
   "outputs": [],
   "source": [
    "#Убрали лишнюю колонку\n",
    "db_final = db_final.drop(columns=['cell_origin'])"
   ]
  },
  {
   "cell_type": "code",
   "execution_count": 31,
   "metadata": {
    "datalore": {
     "hide_input_from_viewers": false,
     "hide_output_from_viewers": false,
     "node_id": "sT44COLnKPX5nKH6mxarOD",
     "type": "CODE"
    }
   },
   "outputs": [],
   "source": [
    "#Исправили параметр organic_type\n",
    "organic_type = {'I':1, 'O':0, 'C':1}\n",
    "db_final['organic'].replace(organic_type, inplace=True) "
   ]
  },
  {
   "cell_type": "code",
   "execution_count": 32,
   "metadata": {
    "datalore": {
     "hide_input_from_viewers": false,
     "hide_output_from_viewers": false,
     "node_id": "z8mNgO8a26bJOFPirtstzy",
     "type": "CODE"
    }
   },
   "outputs": [],
   "source": [
    "#Исправили параметр animal\n",
    "animal = {'Hamster': 0, 'Mouse': 0, 'A': 0, 'Human': 1, 'H': 1} #в предположении, что 0 - Animal, 1 - Human\n",
    "db_final['animal'].replace(animal, inplace=True)"
   ]
  },
  {
   "cell_type": "code",
   "execution_count": 33,
   "metadata": {
    "datalore": {
     "hide_input_from_viewers": false,
     "hide_output_from_viewers": false,
     "node_id": "0OuF6znMf9VWWijwUKBaYz",
     "type": "CODE"
    }
   },
   "outputs": [],
   "source": [
    "#Исправили параметр cell_line\n",
    "line = {'Unknown': 0, 'L': 1, 'P': 2} #в предположении, что 0 - Unknown, 1 - клеточная линия, 2 - отобрано непосредственно из организма\n",
    "db_final['cell_line'].replace(line, inplace=True)"
   ]
  },
  {
   "cell_type": "code",
   "execution_count": 34,
   "metadata": {
    "datalore": {
     "hide_input_from_viewers": false,
     "hide_output_from_viewers": false,
     "node_id": "cO7eMn2sPzRi1R9hsv2y3K",
     "type": "CODE"
    }
   },
   "outputs": [],
   "source": [
    "#Исправили параметр cell_morphology\n",
    "db_final['cell_morphology'].fillna('Epithelial', inplace=True)\n",
    "morphology = {'Epithelial':1, 'Fibroblast':2, 'Endothelial':3,\n",
    "       'Monocyte/Macrophage':4, 'Lymphoblast':5, 'Monocyte':4,\n",
    "       'Endothelial-like':3, 'Irregular':0, 'Spindle':7, 'Neuronal':6,\n",
    "       'Macrophage':4, 'Mesenchymal':8, 'Keratinocyte':9, 'Polygonal':0,\n",
    "       'Epithelial-like':1, 'Osteoblast':10, 'Mixed':0, 'MulticellularClusters':0}\n",
    "db_final['cell_morphology'].replace(morphology, inplace=True)"
   ]
  },
  {
   "cell_type": "code",
   "execution_count": 35,
   "metadata": {
    "datalore": {
     "hide_input_from_viewers": false,
     "hide_output_from_viewers": false,
     "node_id": "4jXIWvibgBlZ0TbJvoK7N7",
     "type": "CODE"
    }
   },
   "outputs": [],
   "source": [
    "#Прочитали заранее созданные словари соответсвия каждого конкретного значения признака некоторой группе\n",
    "cell_map = pd.read_csv('cell_map.csv')\n",
    "coat_map = pd.read_csv('coat_map.csv')\n",
    "test_map = pd.read_csv('test_map.csv')"
   ]
  },
  {
   "cell_type": "code",
   "execution_count": 36,
   "metadata": {
    "datalore": {
     "hide_input_from_viewers": false,
     "hide_output_from_viewers": false,
     "node_id": "PQL9Izuye3TILmP1uEoNiH",
     "type": "CODE"
    }
   },
   "outputs": [],
   "source": [
    "#Исправили параметр cell_type\n",
    "db_final['cell_type'] = db_final['cell_type'].map(cell_map.set_index('name')['type'])\n",
    "db_final['cell_type'].fillna(0, inplace=True)\n",
    "type = {'Normal': 0, 'Cancer': 1} #в предположении, что 0 - Normal, 1 - Cancer\n",
    "db_final['cell_type'].replace(type, inplace=True)"
   ]
  },
  {
   "cell_type": "code",
   "execution_count": 37,
   "metadata": {
    "datalore": {
     "hide_input_from_viewers": false,
     "hide_output_from_viewers": false,
     "node_id": "xitSi5f5WQUB3m5GqeLnvT",
     "type": "CODE"
    }
   },
   "outputs": [],
   "source": [
    "#Исправили параметр coating\n",
    "# 0\tnone, 1\tamin/aminoacid/protein, 2\talcohol, 3\timide, 4\tether, 5\tacid/salt, 6\tCnHn, 7\tother\n",
    "db_final['coating'] = db_final['coating'].map(coat_map.set_index('name')['type'])\n",
    "db_final['coating'].fillna(0, inplace=True)"
   ]
  },
  {
   "cell_type": "code",
   "execution_count": 38,
   "metadata": {
    "datalore": {
     "hide_input_from_viewers": false,
     "hide_output_from_viewers": false,
     "node_id": "ia1etkF69w3UXXERCf1AnM",
     "type": "CODE"
    }
   },
   "outputs": [],
   "source": [
    "#Исправили параметр test\n",
    "#0\tUnknown, 1\tMTT, 2\tXTT, 3\tNR, 4\tLDH, 5\tMTS, 6\tLive/Dead, 7\tWST­1, 8\tCellTiter­Blue, 9\tCellTiter­Glo, 10\tATPLite, 11\tAlamar Blue, 12\tResazurin, 13\tApoTox­Glo™ Triplex, 14\tCytoTox­One™, 15\tCVS, 16\tEZ4U\n",
    "db_final['test'] = db_final['test'].map(test_map.set_index('name')['type'])\n",
    "db_final['test'].fillna(0, inplace=True) "
   ]
  },
  {
   "cell_type": "code",
   "execution_count": 39,
   "metadata": {
    "datalore": {
     "hide_input_from_viewers": false,
     "hide_output_from_viewers": false,
     "node_id": "Wl424OF0UnS111ElZ7BlmC",
     "type": "CODE"
    }
   },
   "outputs": [],
   "source": [
    "#Записали исправленную объединенную базу данных в файл\n",
    "db_final.to_excel(\"final_data.xlsx\")"
   ]
  }
 ],
 "metadata": {
  "datalore": {
   "base_environment": "default",
   "computation_mode": "JUPYTER",
   "package_manager": "pip",
   "packages": [],
   "version": 1
  },
  "kernelspec": {
   "display_name": "Python 3.10.4 ('Datacon_Team_7-is3fxlvs')",
   "language": "python",
   "name": "python3"
  },
  "language_info": {
   "codemirror_mode": {
    "name": "ipython",
    "version": 3
   },
   "file_extension": ".py",
   "mimetype": "text/x-python",
   "name": "python",
   "nbconvert_exporter": "python",
   "pygments_lexer": "ipython3",
   "version": "3.10.4"
  },
  "vscode": {
   "interpreter": {
    "hash": "ff6085a4dd9c11b960c9f8cac73500e8af5cc1b627cc19801eefe2022180155c"
   }
  }
 },
 "nbformat": 4,
 "nbformat_minor": 4
}
