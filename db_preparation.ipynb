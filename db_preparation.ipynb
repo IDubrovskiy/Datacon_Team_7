{
 "cells":[
  {
   "cell_type":"code",
   "source":[
    "!pip install pandas\n",
    "!pip install openpyxl\n",
    "!pip install numpy\n",
    "!pip install pymatgen\n",
    "!pip install chemparse"
   ],
   "execution_count":3,
   "outputs":[
    {
     "name":"stdout",
     "text":[
      "Requirement already satisfied: pandas in \/opt\/python\/envs\/default\/lib\/python3.8\/site-packages (1.3.5)\r\n",
      "Requirement already satisfied: python-dateutil>=2.7.3 in \/opt\/python\/envs\/default\/lib\/python3.8\/site-packages (from pandas) (2.8.2)\r\n",
      "Requirement already satisfied: numpy>=1.17.3 in \/opt\/python\/envs\/default\/lib\/python3.8\/site-packages (from pandas) (1.21.5)\r\n",
      "Requirement already satisfied: pytz>=2017.3 in \/opt\/python\/envs\/default\/lib\/python3.8\/site-packages (from pandas) (2022.1)\r\n",
      "Requirement already satisfied: six>=1.5 in \/opt\/python\/envs\/default\/lib\/python3.8\/site-packages (from python-dateutil>=2.7.3->pandas) (1.16.0)\r\n",
      "\u001b[33mWARNING: You are using pip version 21.3.1; however, version 22.2.1 is available.\r\n",
      "You should consider upgrading via the '\/opt\/python\/envs\/default\/bin\/python -m pip install --upgrade pip' command.\u001b[0m\r\n",
      "Collecting openpyxl\r\n",
      "  Downloading openpyxl-3.0.10-py2.py3-none-any.whl (242 kB)\r\n",
      "\u001b[?25l\r\r     |█▍                              | 10 kB 25.2 MB\/s eta 0:00:01\r     |██▊                             | 20 kB 29.9 MB\/s eta 0:00:01\r     |████                            | 30 kB 33.0 MB\/s eta 0:00:01\r     |█████▍                          | 40 kB 35.8 MB\/s eta 0:00:01\r     |██████▊                         | 51 kB 26.7 MB\/s eta 0:00:01\r     |████████▏                       | 61 kB 29.8 MB\/s eta 0:00:01\r     |█████████▌                      | 71 kB 30.1 MB\/s eta 0:00:01\r     |██████████▉                     | 81 kB 32.1 MB\/s eta 0:00:01\r     |████████████▏                   | 92 kB 33.7 MB\/s eta 0:00:01\r     |█████████████▌                  | 102 kB 33.1 MB\/s eta 0:00:01\r     |██████████████▉                 | 112 kB 33.1 MB\/s eta 0:00:01\r     |████████████████▎               | 122 kB 33.1 MB\/s eta 0:00:01\r     |█████████████████▋              | 133 kB 33.1 MB\/s eta 0:00:01\r     |███████████████████             | 143 kB 33.1 MB\/s eta 0:00:01\r     |████████████████████▎           | 153 kB 33.1 MB\/s eta 0:00:01\r     |█████████████████████▋          | 163 kB 33.1 MB\/s eta 0:00:01\r     |███████████████████████         | 174 kB 33.1 MB\/s eta 0:00:01\r     |████████████████████████▍       | 184 kB 33.1 MB\/s eta 0:00:01\r     |█████████████████████████▊      | 194 kB 33.1 MB\/s eta 0:00:01\r     |███████████████████████████     | 204 kB 33.1 MB\/s eta 0:00:01\r     |████████████████████████████▍   | 215 kB 33.1 MB\/s eta 0:00:01\r     |█████████████████████████████▊  | 225 kB 33.1 MB\/s eta 0:00:01\r     |███████████████████████████████▏| 235 kB 33.1 MB\/s eta 0:00:01\r     |████████████████████████████████| 242 kB 33.1 MB\/s            \r\n",
      "\u001b[?25hCollecting et-xmlfile\r\n",
      "  Downloading et_xmlfile-1.1.0-py3-none-any.whl (4.7 kB)\r\n",
      "Installing collected packages: et-xmlfile, openpyxl\r\n",
      "Successfully installed et-xmlfile-1.1.0 openpyxl-3.0.10\r\n",
      "\u001b[33mWARNING: You are using pip version 21.3.1; however, version 22.2.1 is available.\r\n",
      "You should consider upgrading via the '\/opt\/python\/envs\/default\/bin\/python -m pip install --upgrade pip' command.\u001b[0m\r\n",
      "Requirement already satisfied: numpy in \/opt\/python\/envs\/default\/lib\/python3.8\/site-packages (1.21.5)\r\n",
      "\u001b[33mWARNING: You are using pip version 21.3.1; however, version 22.2.1 is available.\r\n",
      "You should consider upgrading via the '\/opt\/python\/envs\/default\/bin\/python -m pip install --upgrade pip' command.\u001b[0m\r\n",
      "Collecting pymatgen\r\n",
      "  Downloading pymatgen-2022.7.25.tar.gz (2.6 MB)\r\n",
      "\u001b[?25l\r\r     |▏                               | 10 kB 25.1 MB\/s eta 0:00:01\r     |▎                               | 20 kB 30.7 MB\/s eta 0:00:01\r     |▍                               | 30 kB 33.8 MB\/s eta 0:00:01\r     |▌                               | 40 kB 37.1 MB\/s eta 0:00:01\r     |▋                               | 51 kB 24.4 MB\/s eta 0:00:01\r     |▊                               | 61 kB 27.0 MB\/s eta 0:00:01\r     |▉                               | 71 kB 29.1 MB\/s eta 0:00:01\r     |█                               | 81 kB 31.1 MB\/s eta 0:00:01\r     |█▏                              | 92 kB 33.3 MB\/s eta 0:00:01\r     |█▎                              | 102 kB 35.2 MB\/s eta 0:00:01\r     |█▍                              | 112 kB 35.2 MB\/s eta 0:00:01\r     |█▌                              | 122 kB 35.2 MB\/s eta 0:00:01\r     |█▋                              | 133 kB 35.2 MB\/s eta 0:00:01\r     |█▊                              | 143 kB 35.2 MB\/s eta 0:00:01\r     |█▉                              | 153 kB 35.2 MB\/s eta 0:00:01\r     |██                              | 163 kB 35.2 MB\/s eta 0:00:01\r     |██▏                             | 174 kB 35.2 MB\/s eta 0:00:01\r     |██▎                             | 184 kB 35.2 MB\/s eta 0:00:01\r     |██▍                             | 194 kB 35.2 MB\/s eta 0:00:01\r     |██▌                             | 204 kB 35.2 MB\/s eta 0:00:01\r     |██▋                             | 215 kB 35.2 MB\/s eta 0:00:01\r     |██▊                             | 225 kB 35.2 MB\/s eta 0:00:01\r     |██▉                             | 235 kB 35.2 MB\/s eta 0:00:01\r     |███                             | 245 kB 35.2 MB\/s eta 0:00:01\r     |███▏                            | 256 kB 35.2 MB\/s eta 0:00:01\r     |███▎                            | 266 kB 35.2 MB\/s eta 0:00:01\r     |███▍                            | 276 kB 35.2 MB\/s eta 0:00:01\r     |███▌                            | 286 kB 35.2 MB\/s eta 0:00:01\r     |███▋                            | 296 kB 35.2 MB\/s eta 0:00:01\r     |███▊                            | 307 kB 35.2 MB\/s eta 0:00:01\r     |███▉                            | 317 kB 35.2 MB\/s eta 0:00:01\r     |████                            | 327 kB 35.2 MB\/s eta 0:00:01\r     |████▏                           | 337 kB 35.2 MB\/s eta 0:00:01\r     |████▎                           | 348 kB 35.2 MB\/s eta 0:00:01\r     |████▍                           | 358 kB 35.2 MB\/s eta 0:00:01\r     |████▌                           | 368 kB 35.2 MB\/s eta 0:00:01\r     |████▋                           | 378 kB 35.2 MB\/s eta 0:00:01\r     |████▊                           | 389 kB 35.2 MB\/s eta 0:00:01\r     |████▉                           | 399 kB 35.2 MB\/s eta 0:00:01\r     |█████                           | 409 kB 35.2 MB\/s eta 0:00:01\r     |█████▏                          | 419 kB 35.2 MB\/s eta 0:00:01\r     |█████▎                          | 430 kB 35.2 MB\/s eta 0:00:01\r     |█████▍                          | 440 kB 35.2 MB\/s eta 0:00:01\r     |█████▌                          | 450 kB 35.2 MB\/s eta 0:00:01\r     |█████▋                          | 460 kB 35.2 MB\/s eta 0:00:01\r     |█████▊                          | 471 kB 35.2 MB\/s eta 0:00:01\r     |█████▉                          | 481 kB 35.2 MB\/s eta 0:00:01\r     |██████                          | 491 kB 35.2 MB\/s eta 0:00:01\r     |██████▏                         | 501 kB 35.2 MB\/s eta 0:00:01\r     |██████▎                         | 512 kB 35.2 MB\/s eta 0:00:01\r     |██████▍                         | 522 kB 35.2 MB\/s eta 0:00:01\r     |██████▌                         | 532 kB 35.2 MB\/s eta 0:00:01\r     |██████▋                         | 542 kB 35.2 MB\/s eta 0:00:01\r     |██████▊                         | 552 kB 35.2 MB\/s eta 0:00:01\r     |██████▉                         | 563 kB 35.2 MB\/s eta 0:00:01\r     |███████                         | 573 kB 35.2 MB\/s eta 0:00:01\r     |███████▏                        | 583 kB 35.2 MB\/s eta 0:00:01\r     |███████▎                        | 593 kB 35.2 MB\/s eta 0:00:01\r     |███████▍                        | 604 kB 35.2 MB\/s eta 0:00:01\r     |███████▌                        | 614 kB 35.2 MB\/s eta 0:00:01\r     |███████▋                        | 624 kB 35.2 MB\/s eta 0:00:01\r     |███████▊                        | 634 kB 35.2 MB\/s eta 0:00:01\r     |███████▉                        | 645 kB 35.2 MB\/s eta 0:00:01\r     |████████                        | 655 kB 35.2 MB\/s eta 0:00:01\r     |████████▏                       | 665 kB 35.2 MB\/s eta 0:00:01\r     |████████▎                       | 675 kB 35.2 MB\/s eta 0:00:01\r     |████████▍                       | 686 kB 35.2 MB\/s eta 0:00:01\r     |████████▌                       | 696 kB 35.2 MB\/s eta 0:00:01\r     |████████▋                       | 706 kB 35.2 MB\/s eta 0:00:01\r     |████████▊                       | 716 kB 35.2 MB\/s eta 0:00:01\r     |████████▉                       | 727 kB 35.2 MB\/s eta 0:00:01\r     |█████████                       | 737 kB 35.2 MB\/s eta 0:00:01\r     |█████████▏                      | 747 kB 35.2 MB\/s eta 0:00:01\r     |█████████▎                      | 757 kB 35.2 MB\/s eta 0:00:01\r     |█████████▍                      | 768 kB 35.2 MB\/s eta 0:00:01\r     |█████████▌                      | 778 kB 35.2 MB\/s eta 0:00:01\r     |█████████▋                      | 788 kB 35.2 MB\/s eta 0:00:01\r     |█████████▊                      | 798 kB 35.2 MB\/s eta 0:00:01\r     |█████████▉                      | 808 kB 35.2 MB\/s eta 0:00:01\r     |██████████                      | 819 kB 35.2 MB\/s eta 0:00:01\r     |██████████▏                     | 829 kB 35.2 MB\/s eta 0:00:01\r     |██████████▎                     | 839 kB 35.2 MB\/s eta 0:00:01\r     |██████████▍                     | 849 kB 35.2 MB\/s eta 0:00:01\r     |██████████▌                     | 860 kB 35.2 MB\/s eta 0:00:01\r     |██████████▋                     | 870 kB 35.2 MB\/s eta 0:00:01\r     |██████████▊                     | 880 kB 35.2 MB\/s eta 0:00:01\r     |██████████▉                     | 890 kB 35.2 MB\/s eta 0:00:01\r     |███████████                     | 901 kB 35.2 MB\/s eta 0:00:01\r     |███████████▏                    | 911 kB 35.2 MB\/s eta 0:00:01\r     |███████████▎                    | 921 kB 35.2 MB\/s eta 0:00:01\r     |███████████▍                    | 931 kB 35.2 MB\/s eta 0:00:01\r     |███████████▌                    | 942 kB 35.2 MB\/s eta 0:00:01\r     |███████████▋                    | 952 kB 35.2 MB\/s eta 0:00:01\r     |███████████▊                    | 962 kB 35.2 MB\/s eta 0:00:01\r     |███████████▉                    | 972 kB 35.2 MB\/s eta 0:00:01\r     |████████████                    | 983 kB 35.2 MB\/s eta 0:00:01\r     |████████████▏                   | 993 kB 35.2 MB\/s eta 0:00:01\r     |████████████▎                   | 1.0 MB 35.2 MB\/s eta 0:00:01\r     |████████████▍                   | 1.0 MB 35.2 MB\/s eta 0:00:01\r     |████████████▌                   | 1.0 MB 35.2 MB\/s eta 0:00:01\r     |████████████▋                   | 1.0 MB 35.2 MB\/s eta 0:00:01\r     |████████████▊                   | 1.0 MB 35.2 MB\/s eta 0:00:01\r     |████████████▉                   | 1.1 MB 35.2 MB\/s eta 0:00:01\r     |█████████████                   | 1.1 MB 35.2 MB\/s eta 0:00:01\r     |█████████████▏                  | 1.1 MB 35.2 MB\/s eta 0:00:01\r     |█████████████▎                  | 1.1 MB 35.2 MB\/s eta 0:00:01\r     |█████████████▍                  | 1.1 MB 35.2 MB\/s eta 0:00:01\r     |█████████████▌                  | 1.1 MB 35.2 MB\/s eta 0:00:01\r     |█████████████▋                  | 1.1 MB 35.2 MB\/s eta 0:00:01\r     |█████████████▊                  | 1.1 MB 35.2 MB\/s eta 0:00:01\r     |█████████████▉                  | 1.1 MB 35.2 MB\/s eta 0:00:01\r     |██████████████                  | 1.1 MB 35.2 MB\/s eta 0:00:01\r     |██████████████▏                 | 1.2 MB 35.2 MB\/s eta 0:00:01\r     |██████████████▎                 | 1.2 MB 35.2 MB\/s eta 0:00:01\r     |██████████████▍                 | 1.2 MB 35.2 MB\/s eta 0:00:01\r     |██████████████▌                 | 1.2 MB 35.2 MB\/s eta 0:00:01\r     |██████████████▋                 | 1.2 MB 35.2 MB\/s eta 0:00:01\r     |██████████████▊                 | 1.2 MB 35.2 MB\/s eta 0:00:01\r     |██████████████▉                 | 1.2 MB 35.2 MB\/s eta 0:00:01\r     |███████████████                 | 1.2 MB 35.2 MB\/s eta 0:00:01\r     |███████████████▏                | 1.2 MB 35.2 MB\/s eta 0:00:01\r     |███████████████▎                | 1.2 MB 35.2 MB\/s eta 0:00:01\r     |███████████████▍                | 1.3 MB 35.2 MB\/s eta 0:00:01\r     |███████████████▌                | 1.3 MB 35.2 MB\/s eta 0:00:01\r     |███████████████▋                | 1.3 MB 35.2 MB\/s eta 0:00:01\r     |███████████████▊                | 1.3 MB 35.2 MB\/s eta 0:00:01\r     |███████████████▉                | 1.3 MB 35.2 MB\/s eta 0:00:01\r     |████████████████                | 1.3 MB 35.2 MB\/s eta 0:00:01\r     |████████████████▏               | 1.3 MB 35.2 MB\/s eta 0:00:01\r     |████████████████▎               | 1.3 MB 35.2 MB\/s eta 0:00:01\r     |████████████████▍               | 1.3 MB 35.2 MB\/s eta 0:00:01\r     |████████████████▌               | 1.4 MB 35.2 MB\/s eta 0:00:01\r     |████████████████▋               | 1.4 MB 35.2 MB\/s eta 0:00:01\r     |████████████████▊               | 1.4 MB 35.2 MB\/s eta 0:00:01\r     |████████████████▉               | 1.4 MB 35.2 MB\/s eta 0:00:01\r     |█████████████████               | 1.4 MB 35.2 MB\/s eta 0:00:01\r     |█████████████████▏              | 1.4 MB 35.2 MB\/s eta 0:00:01\r     |█████████████████▎              | 1.4 MB 35.2 MB\/s eta 0:00:01\r     |█████████████████▍              | 1.4 MB 35.2 MB\/s eta 0:00:01\r     |█████████████████▌              | 1.4 MB 35.2 MB\/s eta 0:00:01\r     |█████████████████▋              | 1.4 MB 35.2 MB\/s eta 0:00:01\r     |█████████████████▊              | 1.5 MB 35.2 MB\/s eta 0:00:01\r     |█████████████████▉              | 1.5 MB 35.2 MB\/s eta 0:00:01\r     |██████████████████              | 1.5 MB 35.2 MB\/s eta 0:00:01\r     |██████████████████▏             | 1.5 MB 35.2 MB\/s eta 0:00:01\r     |██████████████████▎             | 1.5 MB 35.2 MB\/s eta 0:00:01\r     |██████████████████▍             | 1.5 MB 35.2 MB\/s eta 0:00:01\r     |██████████████████▌             | 1.5 MB 35.2 MB\/s eta 0:00:01\r     |██████████████████▋             | 1.5 MB 35.2 MB\/s eta 0:00:01\r     |██████████████████▊             | 1.5 MB 35.2 MB\/s eta 0:00:01\r     |██████████████████▉             | 1.5 MB 35.2 MB\/s eta 0:00:01\r     |███████████████████             | 1.6 MB 35.2 MB\/s eta 0:00:01\r     |███████████████████▏            | 1.6 MB 35.2 MB\/s eta 0:00:01\r     |███████████████████▎            | 1.6 MB 35.2 MB\/s eta 0:00:01\r     |███████████████████▍            | 1.6 MB 35.2 MB\/s eta 0:00:01\r     |███████████████████▌            | 1.6 MB 35.2 MB\/s eta 0:00:01\r     |███████████████████▋            | 1.6 MB 35.2 MB\/s eta 0:00:01\r     |███████████████████▊            | 1.6 MB 35.2 MB\/s eta 0:00:01\r     |███████████████████▉            | 1.6 MB 35.2 MB\/s eta 0:00:01\r     |████████████████████            | 1.6 MB 35.2 MB\/s eta 0:00:01\r     |████████████████████▏           | 1.6 MB 35.2 MB\/s eta 0:00:01\r     |████████████████████▎           | 1.7 MB 35.2 MB\/s eta 0:00:01\r     |████████████████████▍           | 1.7 MB 35.2 MB\/s eta 0:00:01\r     |████████████████████▌           | 1.7 MB 35.2 MB\/s eta 0:00:01\r     |████████████████████▋           | 1.7 MB 35.2 MB\/s eta 0:00:01\r     |████████████████████▊           | 1.7 MB 35.2 MB\/s eta 0:00:01\r     |████████████████████▉           | 1.7 MB 35.2 MB\/s eta 0:00:01\r     |█████████████████████           | 1.7 MB 35.2 MB\/s eta 0:00:01\r     |█████████████████████▏          | 1.7 MB 35.2 MB\/s eta 0:00:01\r     |█████████████████████▎          | 1.7 MB 35.2 MB\/s eta 0:00:01\r     |█████████████████████▍          | 1.8 MB 35.2 MB\/s eta 0:00:01\r     |█████████████████████▌          | 1.8 MB 35.2 MB\/s eta 0:00:01\r     |█████████████████████▋          | 1.8 MB 35.2 MB\/s eta 0:00:01\r     |█████████████████████▊          | 1.8 MB 35.2 MB\/s eta 0:00:01\r     |█████████████████████▉          | 1.8 MB 35.2 MB\/s eta 0:00:01\r     |██████████████████████          | 1.8 MB 35.2 MB\/s eta 0:00:01\r     |██████████████████████▏         | 1.8 MB 35.2 MB\/s eta 0:00:01\r     |██████████████████████▎         | 1.8 MB 35.2 MB\/s eta 0:00:01\r     |██████████████████████▍         | 1.8 MB 35.2 MB\/s eta 0:00:01\r     |██████████████████████▌         | 1.8 MB 35.2 MB\/s eta 0:00:01\r     |██████████████████████▋         | 1.9 MB 35.2 MB\/s eta 0:00:01\r     |██████████████████████▊         | 1.9 MB 35.2 MB\/s eta 0:00:01\r     |██████████████████████▉         | 1.9 MB 35.2 MB\/s eta 0:00:01\r     |███████████████████████         | 1.9 MB 35.2 MB\/s eta 0:00:01\r     |███████████████████████▏        | 1.9 MB 35.2 MB\/s eta 0:00:01\r     |███████████████████████▎        | 1.9 MB 35.2 MB\/s eta 0:00:01\r     |███████████████████████▍        | 1.9 MB 35.2 MB\/s eta 0:00:01\r     |███████████████████████▌        | 1.9 MB 35.2 MB\/s eta 0:00:01\r     |███████████████████████▋        | 1.9 MB 35.2 MB\/s eta 0:00:01\r     |███████████████████████▊        | 1.9 MB 35.2 MB\/s eta 0:00:01\r     |███████████████████████▉        | 2.0 MB 35.2 MB\/s eta 0:00:01\r     |████████████████████████        | 2.0 MB 35.2 MB\/s eta 0:00:01\r     |████████████████████████▏       | 2.0 MB 35.2 MB\/s eta 0:00:01\r     |████████████████████████▎       | 2.0 MB 35.2 MB\/s eta 0:00:01\r     |████████████████████████▍       | 2.0 MB 35.2 MB\/s eta 0:00:01\r     |████████████████████████▌       | 2.0 MB 35.2 MB\/s eta 0:00:01\r     |████████████████████████▋       | 2.0 MB 35.2 MB\/s eta 0:00:01\r     |████████████████████████▊       | 2.0 MB 35.2 MB\/s eta 0:00:01\r     |████████████████████████▉       | 2.0 MB 35.2 MB\/s eta 0:00:01\r     |█████████████████████████       | 2.0 MB 35.2 MB\/s eta 0:00:01\r     |█████████████████████████▏      | 2.1 MB 35.2 MB\/s eta 0:00:01\r     |█████████████████████████▎      | 2.1 MB 35.2 MB\/s eta 0:00:01\r     |█████████████████████████▍      | 2.1 MB 35.2 MB\/s eta 0:00:01\r     |█████████████████████████▌      | 2.1 MB 35.2 MB\/s eta 0:00:01\r     |█████████████████████████▋      | 2.1 MB 35.2 MB\/s eta 0:00:01\r     |█████████████████████████▊      | 2.1 MB 35.2 MB\/s eta 0:00:01\r     |█████████████████████████▉      | 2.1 MB 35.2 MB\/s eta 0:00:01\r     |██████████████████████████      | 2.1 MB 35.2 MB\/s eta 0:00:01\r     |██████████████████████████▏     | 2.1 MB 35.2 MB\/s eta 0:00:01\r     |██████████████████████████▎     | 2.2 MB 35.2 MB\/s eta 0:00:01\r     |██████████████████████████▍     | 2.2 MB 35.2 MB\/s eta 0:00:01\r     |██████████████████████████▌     | 2.2 MB 35.2 MB\/s eta 0:00:01\r     |██████████████████████████▋     | 2.2 MB 35.2 MB\/s eta 0:00:01\r     |██████████████████████████▊     | 2.2 MB 35.2 MB\/s eta 0:00:01\r     |██████████████████████████▉     | 2.2 MB 35.2 MB\/s eta 0:00:01\r     |███████████████████████████     | 2.2 MB 35.2 MB\/s eta 0:00:01\r     |███████████████████████████▏    | 2.2 MB 35.2 MB\/s eta 0:00:01\r     |███████████████████████████▎    | 2.2 MB 35.2 MB\/s eta 0:00:01\r     |███████████████████████████▍    | 2.2 MB 35.2 MB\/s eta 0:00:01\r     |███████████████████████████▌    | 2.3 MB 35.2 MB\/s eta 0:00:01\r     |███████████████████████████▋    | 2.3 MB 35.2 MB\/s eta 0:00:01\r     |███████████████████████████▊    | 2.3 MB 35.2 MB\/s eta 0:00:01\r     |███████████████████████████▉    | 2.3 MB 35.2 MB\/s eta 0:00:01\r     |████████████████████████████    | 2.3 MB 35.2 MB\/s eta 0:00:01\r     |████████████████████████████▏   | 2.3 MB 35.2 MB\/s eta 0:00:01\r     |████████████████████████████▎   | 2.3 MB 35.2 MB\/s eta 0:00:01\r     |████████████████████████████▍   | 2.3 MB 35.2 MB\/s eta 0:00:01\r     |████████████████████████████▌   | 2.3 MB 35.2 MB\/s eta 0:00:01\r     |████████████████████████████▋   | 2.3 MB 35.2 MB\/s eta 0:00:01\r     |████████████████████████████▊   | 2.4 MB 35.2 MB\/s eta 0:00:01\r     |████████████████████████████▉   | 2.4 MB 35.2 MB\/s eta 0:00:01\r     |█████████████████████████████   | 2.4 MB 35.2 MB\/s eta 0:00:01\r     |█████████████████████████████▏  | 2.4 MB 35.2 MB\/s eta 0:00:01\r     |█████████████████████████████▎  | 2.4 MB 35.2 MB\/s eta 0:00:01\r     |█████████████████████████████▍  | 2.4 MB 35.2 MB\/s eta 0:00:01\r     |█████████████████████████████▌  | 2.4 MB 35.2 MB\/s eta 0:00:01\r     |█████████████████████████████▋  | 2.4 MB 35.2 MB\/s eta 0:00:01\r     |█████████████████████████████▊  | 2.4 MB 35.2 MB\/s eta 0:00:01\r     |█████████████████████████████▉  | 2.4 MB 35.2 MB\/s eta 0:00:01\r     |██████████████████████████████  | 2.5 MB 35.2 MB\/s eta 0:00:01\r     |██████████████████████████████▏ | 2.5 MB 35.2 MB\/s eta 0:00:01\r     |██████████████████████████████▎ | 2.5 MB 35.2 MB\/s eta 0:00:01\r     |██████████████████████████████▍ | 2.5 MB 35.2 MB\/s eta 0:00:01\r     |██████████████████████████████▌ | 2.5 MB 35.2 MB\/s eta 0:00:01\r     |██████████████████████████████▋ | 2.5 MB 35.2 MB\/s eta 0:00:01\r     |██████████████████████████████▊ | 2.5 MB 35.2 MB\/s eta 0:00:01\r     |██████████████████████████████▉ | 2.5 MB 35.2 MB\/s eta 0:00:01\r     |███████████████████████████████ | 2.5 MB 35.2 MB\/s eta 0:00:01\r     |███████████████████████████████▏| 2.5 MB 35.2 MB\/s eta 0:00:01\r     |███████████████████████████████▎| 2.6 MB 35.2 MB\/s eta 0:00:01\r     |███████████████████████████████▍| 2.6 MB 35.2 MB\/s eta 0:00:01\r     |███████████████████████████████▌| 2.6 MB 35.2 MB\/s eta 0:00:01\r     |███████████████████████████████▋| 2.6 MB 35.2 MB\/s eta 0:00:01\r     |███████████████████████████████▊| 2.6 MB 35.2 MB\/s eta 0:00:01\r     |███████████████████████████████▉| 2.6 MB 35.2 MB\/s eta 0:00:01\r     |████████████████████████████████| 2.6 MB 35.2 MB\/s eta 0:00:01\r     |████████████████████████████████| 2.6 MB 35.2 MB\/s            \r\n",
      "\u001b[?25h  Installing build dependencies ... \u001b[?25l-\b \b\\\b \b|\b \b\/\b \b-\b \b\\\b \bdone\r\n",
      "\u001b[?25h  Getting requirements to build wheel ... \u001b[?25ldone\r\n",
      "\u001b[?25h  Installing backend dependencies ... \u001b[?25l-\b \b\\\b \bdone\r\n",
      "\u001b[?25h  Preparing metadata (pyproject.toml) ... \u001b[?25l-\b \b\\\b \bdone\r\n",
      "\u001b[?25hRequirement already satisfied: sympy in \/opt\/python\/envs\/default\/lib\/python3.8\/site-packages (from pymatgen) (1.9)\r\n",
      "Collecting tabulate\r\n",
      "  Downloading tabulate-0.8.10-py3-none-any.whl (29 kB)\r\n",
      "Collecting palettable>=3.1.1\r\n",
      "  Downloading palettable-3.3.0-py2.py3-none-any.whl (111 kB)\r\n",
      "\u001b[?25l\r\r     |███                             | 10 kB 35.7 MB\/s eta 0:00:01\r     |█████▉                          | 20 kB 40.7 MB\/s eta 0:00:01\r     |████████▉                       | 30 kB 48.7 MB\/s eta 0:00:01\r     |███████████▊                    | 40 kB 52.9 MB\/s eta 0:00:01\r     |██████████████▋                 | 51 kB 55.0 MB\/s eta 0:00:01\r     |█████████████████▋              | 61 kB 57.9 MB\/s eta 0:00:01\r     |████████████████████▌           | 71 kB 59.3 MB\/s eta 0:00:01\r     |███████████████████████▍        | 81 kB 60.2 MB\/s eta 0:00:01\r     |██████████████████████████▍     | 92 kB 61.7 MB\/s eta 0:00:01\r     |█████████████████████████████▎  | 102 kB 61.9 MB\/s eta 0:00:01\r     |████████████████████████████████| 111 kB 61.9 MB\/s            \r\n",
      "\u001b[?25hCollecting spglib>=1.9.9.44\r\n",
      "  Downloading spglib-1.16.5-cp38-cp38-manylinux_2_17_x86_64.manylinux2014_x86_64.whl (325 kB)\r\n",
      "\u001b[?25l\r\r     |█                               | 10 kB 30.9 MB\/s eta 0:00:01\r     |██                              | 20 kB 38.8 MB\/s eta 0:00:01\r     |███                             | 30 kB 46.0 MB\/s eta 0:00:01\r     |████                            | 40 kB 49.6 MB\/s eta 0:00:01\r     |█████                           | 51 kB 52.0 MB\/s eta 0:00:01\r     |██████                          | 61 kB 55.4 MB\/s eta 0:00:01\r     |███████                         | 71 kB 57.2 MB\/s eta 0:00:01\r     |████████                        | 81 kB 58.5 MB\/s eta 0:00:01\r     |█████████                       | 92 kB 60.5 MB\/s eta 0:00:01\r     |██████████                      | 102 kB 61.4 MB\/s eta 0:00:01\r     |███████████                     | 112 kB 61.4 MB\/s eta 0:00:01\r     |████████████                    | 122 kB 61.4 MB\/s eta 0:00:01\r     |█████████████                   | 133 kB 61.4 MB\/s eta 0:00:01\r     |██████████████                  | 143 kB 61.4 MB\/s eta 0:00:01\r     |███████████████                 | 153 kB 61.4 MB\/s eta 0:00:01\r     |████████████████                | 163 kB 61.4 MB\/s eta 0:00:01\r     |█████████████████               | 174 kB 61.4 MB\/s eta 0:00:01\r     |██████████████████▏             | 184 kB 61.4 MB\/s eta 0:00:01\r     |███████████████████▏            | 194 kB 61.4 MB\/s eta 0:00:01\r     |████████████████████▏           | 204 kB 61.4 MB\/s eta 0:00:01\r     |█████████████████████▏          | 215 kB 61.4 MB\/s eta 0:00:01\r     |██████████████████████▏         | 225 kB 61.4 MB\/s eta 0:00:01\r     |███████████████████████▏        | 235 kB 61.4 MB\/s eta 0:00:01\r     |████████████████████████▏       | 245 kB 61.4 MB\/s eta 0:00:01\r     |█████████████████████████▏      | 256 kB 61.4 MB\/s eta 0:00:01\r     |██████████████████████████▏     | 266 kB 61.4 MB\/s eta 0:00:01\r     |███████████████████████████▏    | 276 kB 61.4 MB\/s eta 0:00:01\r     |████████████████████████████▏   | 286 kB 61.4 MB\/s eta 0:00:01\r     |█████████████████████████████▏  | 296 kB 61.4 MB\/s eta 0:00:01\r     |██████████████████████████████▏ | 307 kB 61.4 MB\/s eta 0:00:01\r     |███████████████████████████████▏| 317 kB 61.4 MB\/s eta 0:00:01\r     |████████████████████████████████| 325 kB 61.4 MB\/s            \r\n",
      "\u001b[?25hCollecting uncertainties>=3.1.4\r\n",
      "  Downloading uncertainties-3.1.7-py2.py3-none-any.whl (98 kB)\r\n",
      "\u001b[?25l\r\r     |███▎                            | 10 kB 33.4 MB\/s eta 0:00:01\r     |██████▋                         | 20 kB 40.7 MB\/s eta 0:00:01\r     |██████████                      | 30 kB 48.5 MB\/s eta 0:00:01\r     |█████████████▎                  | 40 kB 53.0 MB\/s eta 0:00:01\r     |████████████████▋               | 51 kB 54.9 MB\/s eta 0:00:01\r     |████████████████████            | 61 kB 58.4 MB\/s eta 0:00:01\r     |███████████████████████▎        | 71 kB 60.1 MB\/s eta 0:00:01\r     |██████████████████████████▋     | 81 kB 59.9 MB\/s eta 0:00:01\r     |██████████████████████████████  | 92 kB 61.9 MB\/s eta 0:00:01\r     |████████████████████████████████| 98 kB 7.3 MB\/s             \r\n",
      "\u001b[?25hRequirement already satisfied: matplotlib>=1.5 in \/opt\/python\/envs\/default\/lib\/python3.8\/site-packages (from pymatgen) (3.5.1)\r\n",
      "Requirement already satisfied: plotly>=4.5.0 in \/opt\/python\/envs\/default\/lib\/python3.8\/site-packages (from pymatgen) (5.5.0)\r\n",
      "Collecting ruamel.yaml>=0.17.0\r\n",
      "  Downloading ruamel.yaml-0.17.21-py3-none-any.whl (109 kB)\r\n",
      "\u001b[?25l\r\r     |███                             | 10 kB 35.9 MB\/s eta 0:00:01\r     |██████                          | 20 kB 42.7 MB\/s eta 0:00:01\r     |█████████                       | 30 kB 50.1 MB\/s eta 0:00:01\r     |████████████                    | 40 kB 54.2 MB\/s eta 0:00:01\r     |███████████████                 | 51 kB 56.1 MB\/s eta 0:00:01\r     |██████████████████              | 61 kB 59.5 MB\/s eta 0:00:01\r     |█████████████████████           | 71 kB 61.2 MB\/s eta 0:00:01\r     |████████████████████████        | 81 kB 62.2 MB\/s eta 0:00:01\r     |███████████████████████████     | 92 kB 64.3 MB\/s eta 0:00:01\r     |██████████████████████████████  | 102 kB 65.0 MB\/s eta 0:00:01\r     |████████████████████████████████| 109 kB 65.0 MB\/s            \r\n",
      "\u001b[?25hCollecting monty>=3.0.2\r\n",
      "  Downloading monty-2022.4.26-py3-none-any.whl (65 kB)\r\n",
      "\u001b[?25l\r\r     |█████                           | 10 kB 38.6 MB\/s eta 0:00:01\r     |██████████                      | 20 kB 44.9 MB\/s eta 0:00:01\r     |███████████████                 | 30 kB 52.6 MB\/s eta 0:00:01\r     |███████████████████▉            | 40 kB 56.0 MB\/s eta 0:00:01\r     |████████████████████████▉       | 51 kB 57.9 MB\/s eta 0:00:01\r     |█████████████████████████████▉  | 61 kB 61.1 MB\/s eta 0:00:01\r     |████████████████████████████████| 65 kB 6.5 MB\/s             \r\n",
      "\u001b[?25hRequirement already satisfied: tqdm in \/opt\/python\/envs\/default\/lib\/python3.8\/site-packages (from pymatgen) (4.64.0)\r\n",
      "Requirement already satisfied: networkx>=2.2 in \/opt\/python\/envs\/default\/lib\/python3.8\/site-packages (from pymatgen) (2.8.4)\r\n",
      "Requirement already satisfied: pandas in \/opt\/python\/envs\/default\/lib\/python3.8\/site-packages (from pymatgen) (1.3.5)\r\n",
      "Collecting pybtex\r\n",
      "  Downloading pybtex-0.24.0-py2.py3-none-any.whl (561 kB)\r\n",
      "\u001b[?25l\r\r     |▋                               | 10 kB 33.6 MB\/s eta 0:00:01\r     |█▏                              | 20 kB 39.2 MB\/s eta 0:00:01\r     |█▊                              | 30 kB 46.4 MB\/s eta 0:00:01\r     |██▍                             | 40 kB 48.5 MB\/s eta 0:00:01\r     |███                             | 51 kB 49.7 MB\/s eta 0:00:01\r     |███▌                            | 61 kB 53.2 MB\/s eta 0:00:01\r     |████                            | 71 kB 54.3 MB\/s eta 0:00:01\r     |████▊                           | 81 kB 55.1 MB\/s eta 0:00:01\r     |█████▎                          | 92 kB 56.8 MB\/s eta 0:00:01\r     |█████▉                          | 102 kB 57.8 MB\/s eta 0:00:01\r     |██████▍                         | 112 kB 57.8 MB\/s eta 0:00:01\r     |███████                         | 122 kB 57.8 MB\/s eta 0:00:01\r     |███████▋                        | 133 kB 57.8 MB\/s eta 0:00:01\r     |████████▏                       | 143 kB 57.8 MB\/s eta 0:00:01\r     |████████▊                       | 153 kB 57.8 MB\/s eta 0:00:01\r     |█████████▍                      | 163 kB 57.8 MB\/s eta 0:00:01\r     |██████████                      | 174 kB 57.8 MB\/s eta 0:00:01\r     |██████████▌                     | 184 kB 57.8 MB\/s eta 0:00:01\r     |███████████                     | 194 kB 57.8 MB\/s eta 0:00:01\r     |███████████▊                    | 204 kB 57.8 MB\/s eta 0:00:01\r     |████████████▎                   | 215 kB 57.8 MB\/s eta 0:00:01\r     |████████████▉                   | 225 kB 57.8 MB\/s eta 0:00:01\r     |█████████████▍                  | 235 kB 57.8 MB\/s eta 0:00:01\r     |██████████████                  | 245 kB 57.8 MB\/s eta 0:00:01\r     |██████████████▋                 | 256 kB 57.8 MB\/s eta 0:00:01\r     |███████████████▏                | 266 kB 57.8 MB\/s eta 0:00:01\r     |███████████████▊                | 276 kB 57.8 MB\/s eta 0:00:01\r     |████████████████▍               | 286 kB 57.8 MB\/s eta 0:00:01\r     |█████████████████               | 296 kB 57.8 MB\/s eta 0:00:01\r     |█████████████████▌              | 307 kB 57.8 MB\/s eta 0:00:01\r     |██████████████████              | 317 kB 57.8 MB\/s eta 0:00:01\r     |██████████████████▊             | 327 kB 57.8 MB\/s eta 0:00:01\r     |███████████████████▎            | 337 kB 57.8 MB\/s eta 0:00:01\r     |███████████████████▉            | 348 kB 57.8 MB\/s eta 0:00:01\r     |████████████████████▍           | 358 kB 57.8 MB\/s eta 0:00:01\r     |█████████████████████           | 368 kB 57.8 MB\/s eta 0:00:01\r     |█████████████████████▋          | 378 kB 57.8 MB\/s eta 0:00:01\r     |██████████████████████▏         | 389 kB 57.8 MB\/s eta 0:00:01\r     |██████████████████████▊         | 399 kB 57.8 MB\/s eta 0:00:01\r     |███████████████████████▍        | 409 kB 57.8 MB\/s eta 0:00:01\r     |████████████████████████        | 419 kB 57.8 MB\/s eta 0:00:01\r     |████████████████████████▌       | 430 kB 57.8 MB\/s eta 0:00:01\r     |█████████████████████████       | 440 kB 57.8 MB\/s eta 0:00:01\r     |█████████████████████████▊      | 450 kB 57.8 MB\/s eta 0:00:01\r     |██████████████████████████▎     | 460 kB 57.8 MB\/s eta 0:00:01\r     |██████████████████████████▉     | 471 kB 57.8 MB\/s eta 0:00:01\r     |███████████████████████████▍    | 481 kB 57.8 MB\/s eta 0:00:01\r     |████████████████████████████    | 491 kB 57.8 MB\/s eta 0:00:01\r     |████████████████████████████▋   | 501 kB 57.8 MB\/s eta 0:00:01\r     |█████████████████████████████▏  | 512 kB 57.8 MB\/s eta 0:00:01\r     |█████████████████████████████▊  | 522 kB 57.8 MB\/s eta 0:00:01\r     |██████████████████████████████▍ | 532 kB 57.8 MB\/s eta 0:00:01\r     |███████████████████████████████ | 542 kB 57.8 MB\/s eta 0:00:01\r     |███████████████████████████████▌| 552 kB 57.8 MB\/s eta 0:00:01\r     |████████████████████████████████| 561 kB 57.8 MB\/s            \r\n",
      "\u001b[?25hRequirement already satisfied: requests in \/opt\/python\/envs\/default\/lib\/python3.8\/site-packages (from pymatgen) (2.26.0)\r\n",
      "Requirement already satisfied: numpy>=1.20.1 in \/opt\/python\/envs\/default\/lib\/python3.8\/site-packages (from pymatgen) (1.21.5)\r\n",
      "Requirement already satisfied: scipy>=1.5.0 in \/opt\/python\/envs\/default\/lib\/python3.8\/site-packages (from pymatgen) (1.7.3)\r\n",
      "Requirement already satisfied: kiwisolver>=1.0.1 in \/opt\/python\/envs\/default\/lib\/python3.8\/site-packages (from matplotlib>=1.5->pymatgen) (1.4.3)\r\n",
      "Requirement already satisfied: pyparsing>=2.2.1 in \/opt\/python\/envs\/default\/lib\/python3.8\/site-packages (from matplotlib>=1.5->pymatgen) (3.0.9)\r\n",
      "Requirement already satisfied: packaging>=20.0 in \/opt\/python\/envs\/default\/lib\/python3.8\/site-packages (from matplotlib>=1.5->pymatgen) (21.3)\r\n",
      "Requirement already satisfied: python-dateutil>=2.7 in \/opt\/python\/envs\/default\/lib\/python3.8\/site-packages (from matplotlib>=1.5->pymatgen) (2.8.2)\r\n",
      "Requirement already satisfied: cycler>=0.10 in \/opt\/python\/envs\/default\/lib\/python3.8\/site-packages (from matplotlib>=1.5->pymatgen) (0.11.0)\r\n",
      "Requirement already satisfied: pillow>=6.2.0 in \/opt\/python\/envs\/default\/lib\/python3.8\/site-packages (from matplotlib>=1.5->pymatgen) (9.1.1)\r\n",
      "Requirement already satisfied: fonttools>=4.22.0 in \/opt\/python\/envs\/default\/lib\/python3.8\/site-packages (from matplotlib>=1.5->pymatgen) (4.33.3)\r\n",
      "Requirement already satisfied: tenacity>=6.2.0 in \/opt\/python\/envs\/default\/lib\/python3.8\/site-packages (from plotly>=4.5.0->pymatgen) (8.0.1)\r\n",
      "Requirement already satisfied: six in \/opt\/python\/envs\/default\/lib\/python3.8\/site-packages (from plotly>=4.5.0->pymatgen) (1.16.0)\r\n",
      "Collecting ruamel.yaml.clib>=0.2.6\r\n",
      "  Downloading ruamel.yaml.clib-0.2.6-cp38-cp38-manylinux1_x86_64.whl (570 kB)\r\n",
      "\u001b[?25l\r\r     |▋                               | 10 kB 32.7 MB\/s eta 0:00:01\r     |█▏                              | 20 kB 39.8 MB\/s eta 0:00:01\r     |█▊                              | 30 kB 47.1 MB\/s eta 0:00:01\r     |██▎                             | 40 kB 49.7 MB\/s eta 0:00:01\r     |██▉                             | 51 kB 51.7 MB\/s eta 0:00:01\r     |███▌                            | 61 kB 54.7 MB\/s eta 0:00:01\r     |████                            | 71 kB 56.4 MB\/s eta 0:00:01\r     |████▋                           | 81 kB 57.1 MB\/s eta 0:00:01\r     |█████▏                          | 92 kB 58.7 MB\/s eta 0:00:01\r     |█████▊                          | 102 kB 58.0 MB\/s eta 0:00:01\r     |██████▎                         | 112 kB 58.0 MB\/s eta 0:00:01\r     |███████                         | 122 kB 58.0 MB\/s eta 0:00:01\r     |███████▌                        | 133 kB 58.0 MB\/s eta 0:00:01\r     |████████                        | 143 kB 58.0 MB\/s eta 0:00:01\r     |████████▋                       | 153 kB 58.0 MB\/s eta 0:00:01\r     |█████████▏                      | 163 kB 58.0 MB\/s eta 0:00:01\r     |█████████▊                      | 174 kB 58.0 MB\/s eta 0:00:01\r     |██████████▍                     | 184 kB 58.0 MB\/s eta 0:00:01\r     |███████████                     | 194 kB 58.0 MB\/s eta 0:00:01\r     |███████████▌                    | 204 kB 58.0 MB\/s eta 0:00:01\r     |████████████                    | 215 kB 58.0 MB\/s eta 0:00:01\r     |████████████▋                   | 225 kB 58.0 MB\/s eta 0:00:01\r     |█████████████▏                  | 235 kB 58.0 MB\/s eta 0:00:01\r     |█████████████▉                  | 245 kB 58.0 MB\/s eta 0:00:01\r     |██████████████▍                 | 256 kB 58.0 MB\/s eta 0:00:01\r     |███████████████                 | 266 kB 58.0 MB\/s eta 0:00:01\r     |███████████████▌                | 276 kB 58.0 MB\/s eta 0:00:01\r     |████████████████                | 286 kB 58.0 MB\/s eta 0:00:01\r     |████████████████▋               | 296 kB 58.0 MB\/s eta 0:00:01\r     |█████████████████▎              | 307 kB 58.0 MB\/s eta 0:00:01\r     |█████████████████▉              | 317 kB 58.0 MB\/s eta 0:00:01\r     |██████████████████▍             | 327 kB 58.0 MB\/s eta 0:00:01\r     |███████████████████             | 337 kB 58.0 MB\/s eta 0:00:01\r     |███████████████████▌            | 348 kB 58.0 MB\/s eta 0:00:01\r     |████████████████████            | 358 kB 58.0 MB\/s eta 0:00:01\r     |████████████████████▊           | 368 kB 58.0 MB\/s eta 0:00:01\r     |█████████████████████▎          | 378 kB 58.0 MB\/s eta 0:00:01\r     |█████████████████████▉          | 389 kB 58.0 MB\/s eta 0:00:01\r     |██████████████████████▍         | 399 kB 58.0 MB\/s eta 0:00:01\r     |███████████████████████         | 409 kB 58.0 MB\/s eta 0:00:01\r     |███████████████████████▌        | 419 kB 58.0 MB\/s eta 0:00:01\r     |████████████████████████▏       | 430 kB 58.0 MB\/s eta 0:00:01\r     |████████████████████████▊       | 440 kB 58.0 MB\/s eta 0:00:01\r     |█████████████████████████▎      | 450 kB 58.0 MB\/s eta 0:00:01\r     |█████████████████████████▉      | 460 kB 58.0 MB\/s eta 0:00:01\r     |██████████████████████████▍     | 471 kB 58.0 MB\/s eta 0:00:01\r     |███████████████████████████     | 481 kB 58.0 MB\/s eta 0:00:01\r     |███████████████████████████▋    | 491 kB 58.0 MB\/s eta 0:00:01\r     |████████████████████████████▏   | 501 kB 58.0 MB\/s eta 0:00:01\r     |████████████████████████████▊   | 512 kB 58.0 MB\/s eta 0:00:01\r     |█████████████████████████████▎  | 522 kB 58.0 MB\/s eta 0:00:01\r     |█████████████████████████████▉  | 532 kB 58.0 MB\/s eta 0:00:01\r     |██████████████████████████████▌ | 542 kB 58.0 MB\/s eta 0:00:01\r     |███████████████████████████████ | 552 kB 58.0 MB\/s eta 0:00:01\r     |███████████████████████████████▋| 563 kB 58.0 MB\/s eta 0:00:01\r     |████████████████████████████████| 570 kB 58.0 MB\/s            \r\n",
      "\u001b[?25hCollecting future\r\n",
      "  Downloading future-0.18.2.tar.gz (829 kB)\r\n",
      "\u001b[?25l\r\r     |▍                               | 10 kB 34.8 MB\/s eta 0:00:01\r     |▉                               | 20 kB 41.9 MB\/s eta 0:00:01\r     |█▏                              | 30 kB 47.0 MB\/s eta 0:00:01\r     |█▋                              | 40 kB 50.5 MB\/s eta 0:00:01\r     |██                              | 51 kB 52.4 MB\/s eta 0:00:01\r     |██▍                             | 61 kB 55.6 MB\/s eta 0:00:01\r     |██▊                             | 71 kB 57.4 MB\/s eta 0:00:01\r     |███▏                            | 81 kB 57.5 MB\/s eta 0:00:01\r     |███▋                            | 92 kB 59.8 MB\/s eta 0:00:01\r     |████                            | 102 kB 59.9 MB\/s eta 0:00:01\r     |████▍                           | 112 kB 59.9 MB\/s eta 0:00:01\r     |████▊                           | 122 kB 59.9 MB\/s eta 0:00:01\r     |█████▏                          | 133 kB 59.9 MB\/s eta 0:00:01\r     |█████▌                          | 143 kB 59.9 MB\/s eta 0:00:01\r     |██████                          | 153 kB 59.9 MB\/s eta 0:00:01\r     |██████▎                         | 163 kB 59.9 MB\/s eta 0:00:01\r     |██████▊                         | 174 kB 59.9 MB\/s eta 0:00:01\r     |███████▏                        | 184 kB 59.9 MB\/s eta 0:00:01\r     |███████▌                        | 194 kB 59.9 MB\/s eta 0:00:01\r     |████████                        | 204 kB 59.9 MB\/s eta 0:00:01\r     |████████▎                       | 215 kB 59.9 MB\/s eta 0:00:01\r     |████████▊                       | 225 kB 59.9 MB\/s eta 0:00:01\r     |█████████                       | 235 kB 59.9 MB\/s eta 0:00:01\r     |█████████▌                      | 245 kB 59.9 MB\/s eta 0:00:01\r     |█████████▉                      | 256 kB 59.9 MB\/s eta 0:00:01\r     |██████████▎                     | 266 kB 59.9 MB\/s eta 0:00:01\r     |██████████▊                     | 276 kB 59.9 MB\/s eta 0:00:01\r     |███████████                     | 286 kB 59.9 MB\/s eta 0:00:01\r     |███████████▌                    | 296 kB 59.9 MB\/s eta 0:00:01\r     |███████████▉                    | 307 kB 59.9 MB\/s eta 0:00:01\r     |████████████▎                   | 317 kB 59.9 MB\/s eta 0:00:01\r     |████████████▋                   | 327 kB 59.9 MB\/s eta 0:00:01\r     |█████████████                   | 337 kB 59.9 MB\/s eta 0:00:01\r     |█████████████▍                  | 348 kB 59.9 MB\/s eta 0:00:01\r     |█████████████▉                  | 358 kB 59.9 MB\/s eta 0:00:01\r     |██████████████▎                 | 368 kB 59.9 MB\/s eta 0:00:01\r     |██████████████▋                 | 378 kB 59.9 MB\/s eta 0:00:01\r     |███████████████                 | 389 kB 59.9 MB\/s eta 0:00:01\r     |███████████████▍                | 399 kB 59.9 MB\/s eta 0:00:01\r     |███████████████▉                | 409 kB 59.9 MB\/s eta 0:00:01\r     |████████████████▏               | 419 kB 59.9 MB\/s eta 0:00:01\r     |████████████████▋               | 430 kB 59.9 MB\/s eta 0:00:01\r     |█████████████████               | 440 kB 59.9 MB\/s eta 0:00:01\r     |█████████████████▍              | 450 kB 59.9 MB\/s eta 0:00:01\r     |█████████████████▉              | 460 kB 59.9 MB\/s eta 0:00:01\r     |██████████████████▏             | 471 kB 59.9 MB\/s eta 0:00:01\r     |██████████████████▋             | 481 kB 59.9 MB\/s eta 0:00:01\r     |███████████████████             | 491 kB 59.9 MB\/s eta 0:00:01\r     |███████████████████▍            | 501 kB 59.9 MB\/s eta 0:00:01\r     |███████████████████▊            | 512 kB 59.9 MB\/s eta 0:00:01\r     |████████████████████▏           | 522 kB 59.9 MB\/s eta 0:00:01\r     |████████████████████▌           | 532 kB 59.9 MB\/s eta 0:00:01\r     |█████████████████████           | 542 kB 59.9 MB\/s eta 0:00:01\r     |█████████████████████▍          | 552 kB 59.9 MB\/s eta 0:00:01\r     |█████████████████████▊          | 563 kB 59.9 MB\/s eta 0:00:01\r     |██████████████████████▏         | 573 kB 59.9 MB\/s eta 0:00:01\r     |██████████████████████▌         | 583 kB 59.9 MB\/s eta 0:00:01\r     |███████████████████████         | 593 kB 59.9 MB\/s eta 0:00:01\r     |███████████████████████▎        | 604 kB 59.9 MB\/s eta 0:00:01\r     |███████████████████████▊        | 614 kB 59.9 MB\/s eta 0:00:01\r     |████████████████████████        | 624 kB 59.9 MB\/s eta 0:00:01\r     |████████████████████████▌       | 634 kB 59.9 MB\/s eta 0:00:01\r     |█████████████████████████       | 645 kB 59.9 MB\/s eta 0:00:01\r     |█████████████████████████▎      | 655 kB 59.9 MB\/s eta 0:00:01\r     |█████████████████████████▊      | 665 kB 59.9 MB\/s eta 0:00:01\r     |██████████████████████████      | 675 kB 59.9 MB\/s eta 0:00:01\r     |██████████████████████████▌     | 686 kB 59.9 MB\/s eta 0:00:01\r     |██████████████████████████▉     | 696 kB 59.9 MB\/s eta 0:00:01\r     |███████████████████████████▎    | 706 kB 59.9 MB\/s eta 0:00:01\r     |███████████████████████████▋    | 716 kB 59.9 MB\/s eta 0:00:01\r     |████████████████████████████    | 727 kB 59.9 MB\/s eta 0:00:01\r     |████████████████████████████▌   | 737 kB 59.9 MB\/s eta 0:00:01\r     |████████████████████████████▉   | 747 kB 59.9 MB\/s eta 0:00:01\r     |█████████████████████████████▎  | 757 kB 59.9 MB\/s eta 0:00:01\r     |█████████████████████████████▋  | 768 kB 59.9 MB\/s eta 0:00:01\r     |██████████████████████████████  | 778 kB 59.9 MB\/s eta 0:00:01\r     |██████████████████████████████▍ | 788 kB 59.9 MB\/s eta 0:00:01\r     |██████████████████████████████▉ | 798 kB 59.9 MB\/s eta 0:00:01\r     |███████████████████████████████▏| 808 kB 59.9 MB\/s eta 0:00:01\r     |███████████████████████████████▋| 819 kB 59.9 MB\/s eta 0:00:01\r     |████████████████████████████████| 829 kB 59.9 MB\/s            \r\n",
      "\u001b[?25h  Preparing metadata (setup.py) ... \u001b[?25l-\b \b\\\b \b|\b \b\/\b \b-\b \bdone\r\n",
      "\u001b[?25hRequirement already satisfied: pytz>=2017.3 in \/opt\/python\/envs\/default\/lib\/python3.8\/site-packages (from pandas->pymatgen) (2022.1)\r\n",
      "Requirement already satisfied: PyYAML>=3.01 in \/opt\/python\/envs\/default\/lib\/python3.8\/site-packages (from pybtex->pymatgen) (6.0)\r\n",
      "Collecting latexcodec>=1.0.4\r\n",
      "  Downloading latexcodec-2.0.1-py2.py3-none-any.whl (18 kB)\r\n",
      "Requirement already satisfied: certifi>=2017.4.17 in \/opt\/python\/envs\/default\/lib\/python3.8\/site-packages (from requests->pymatgen) (2022.6.15)\r\n",
      "Requirement already satisfied: urllib3<1.27,>=1.21.1 in \/opt\/python\/envs\/default\/lib\/python3.8\/site-packages (from requests->pymatgen) (1.26.9)\r\n",
      "Requirement already satisfied: charset-normalizer~=2.0.0 in \/opt\/python\/envs\/default\/lib\/python3.8\/site-packages (from requests->pymatgen) (2.0.12)\r\n",
      "Requirement already satisfied: idna<4,>=2.5 in \/opt\/python\/envs\/default\/lib\/python3.8\/site-packages (from requests->pymatgen) (3.3)\r\n",
      "Requirement already satisfied: mpmath>=0.19 in \/opt\/python\/envs\/default\/lib\/python3.8\/site-packages (from sympy->pymatgen) (1.2.1)\r\n",
      "Building wheels for collected packages: pymatgen, future\r\n",
      "  Building wheel for pymatgen (pyproject.toml) ... \u001b[?25l-\b \b\\\b \b|\b \b\/\b \b-\b \b\\\b \b|\b \b\/\b \b-\b \b\\\b \b|\b \b\/\b \b-\b \b\\\b \b|\b \b\/\b \b-\b \b\\\b \b|\b \b\/\b \b-\b \b\\\b \b|\b \b\/\b \bdone\r\n",
      "\u001b[?25h  Created wheel for pymatgen: filename=pymatgen-2022.7.25-cp38-cp38-linux_x86_64.whl size=4421245 sha256=8e77a8d585922b173eb7bcfc4c5265c56aac492581d185a70fc26dfbe251f352\r\n",
      "  Stored in directory: \/home\/datalore\/.cache\/pip\/wheels\/fe\/87\/17\/73ffb1e3f61731385b3557830abbfb8fa7c773610061d7eb21\r\n",
      "  Building wheel for future (setup.py) ... \u001b[?25l-\b \b\\\b \b|\b \b\/\b \b-\b \b\\\b \b|\b \b\/\b \b-\b \b\\\b \b|\b \b\/\b \bdone\r\n",
      "\u001b[?25h  Created wheel for future: filename=future-0.18.2-py3-none-any.whl size=491058 sha256=2aac07dd418b56febbc31ef192c1f058e79c236e4636ca62cea6b3f53e31e4cd\r\n",
      "  Stored in directory: \/home\/datalore\/.cache\/pip\/wheels\/8e\/70\/28\/3d6ccd6e315f65f245da085482a2e1c7d14b90b30f239e2cf4\r\n",
      "Successfully built pymatgen future\r\n",
      "Installing collected packages: ruamel.yaml.clib, latexcodec, future, uncertainties, tabulate, spglib, ruamel.yaml, pybtex, palettable, monty, pymatgen\r\n",
      "Successfully installed future-0.18.2 latexcodec-2.0.1 monty-2022.4.26 palettable-3.3.0 pybtex-0.24.0 pymatgen-2022.7.25 ruamel.yaml-0.17.21 ruamel.yaml.clib-0.2.6 spglib-1.16.5 tabulate-0.8.10 uncertainties-3.1.7\r\n",
      "\u001b[33mWARNING: You are using pip version 21.3.1; however, version 22.2.1 is available.\r\n",
      "You should consider upgrading via the '\/opt\/python\/envs\/default\/bin\/python -m pip install --upgrade pip' command.\u001b[0m\r\n",
      "Collecting chemparse\r\n",
      "  Downloading chemparse-0.1.1-py3-none-any.whl (3.8 kB)\r\n",
      "Installing collected packages: chemparse\r\n",
      "Successfully installed chemparse-0.1.1\r\n",
      "\u001b[33mWARNING: You are using pip version 21.3.1; however, version 22.2.1 is available.\r\n",
      "You should consider upgrading via the '\/opt\/python\/envs\/default\/bin\/python -m pip install --upgrade pip' command.\u001b[0m\r\n"
     ],
     "output_type":"stream"
    }
   ],
   "metadata":{
    "datalore":{
     "type":"CODE",
     "hide_input_from_viewers":false,
     "hide_output_from_viewers":false,
     "node_id":"Ip7sDKJSfHGCw71Q4JaneT"
    }
   }
  },
  {
   "cell_type":"code",
   "source":[
    "#Импорт библиотек\n",
    "import pandas as pd\n",
    "import numpy as np\n",
    "from pymatgen.core.composition import Composition\n",
    "from pymatgen.core.periodic_table import Species\n",
    "import chemparse as cp"
   ],
   "execution_count":4,
   "outputs":[
    
   ],
   "metadata":{
    "datalore":{
     "type":"CODE",
     "hide_input_from_viewers":false,
     "hide_output_from_viewers":false,
     "node_id":"idfJp2Jo8G40M8YhQYv9uH"
    }
   }
  },
  {
   "cell_type":"code",
   "source":[
    "#Записываем все базы данных в переменные\n",
    "db1 = pd.read_excel('Database_1.xlsx')\n",
    "db2 = pd.read_excel('Database_2.xlsx')\n",
    "db3 = pd.read_excel('Database_3.xlsx')\n",
    "db4 = pd.read_excel('Database_4.xlsx')\n",
    "db5 = pd.read_excel('Database_5.xlsx')"
   ],
   "execution_count":5,
   "outputs":[
    
   ],
   "metadata":{
    "datalore":{
     "type":"CODE",
     "hide_input_from_viewers":false,
     "hide_output_from_viewers":false,
     "node_id":"JNKca1wrsh48bUprhgBcKv"
    }
   }
  },
  {
   "cell_type":"code",
   "source":[
    "#Данная функция на основании формулы вещества рассчитывает плотность заряда, которая равна среднему отношению ионного радиуса к степени окисления\n",
    "def db_fill(data, row):  \n",
    "    ir_sum = 0\n",
    "    n = 0\n",
    "    el = Composition(cp.parse_formula(data.loc[row, 'nanoparticle'])).oxi_state_guesses()\n",
    "    if len(el) == 0:\n",
    "        return 0\n",
    "    elements_list = el[0]\n",
    "    for i in elements_list.keys():\n",
    "        os = elements_list[i]\n",
    "        el = Species(i)\n",
    "        ir = el.average_ionic_radius \/ os\n",
    "        ir_sum += ir\n",
    "        n += 1\n",
    "    return(ir_sum\/n)"
   ],
   "execution_count":6,
   "outputs":[
    
   ],
   "metadata":{
    "datalore":{
     "type":"CODE",
     "hide_input_from_viewers":false,
     "hide_output_from_viewers":false,
     "node_id":"Dc9acaE2081BTpA6tuZfdw"
    }
   }
  },
  {
   "cell_type":"code",
   "source":[
    "#Переименовали колонки во второй базе данных, а также убрали лишние\n",
    "db2.rename(columns = {'Nanoparticle': 'nanoparticle', 'Concentration μM': 'concentration_ug\/mL',\n",
    "                      '% Cell viability' : 'viability_%', 'coat': 'coating', 'Diameter (nm)': 'size_nm',\n",
    "                      'Zeta potential (mV)': 'surface_charge_mV', 'Cells': 'cell_type', \n",
    "                      'Cell line (L)\/primary cells (P)': 'cell_line', 'Human(H)\/Animal(A) cells': 'animal',\n",
    "                      'Cell morphology': 'cell_morphology', 'Exposure time (h)': 'time_h', 'Test': 'test', \n",
    "                      'Type: Organic (O)\/inorganic (I)': 'organic'}, inplace = True)\n",
    "\n",
    "db2 = db2.drop(columns=['Animal?', 'Test indicator', 'Biochemical metric', 'Publication year', 'Particle ID', 'Reference DOI', \n",
    "                        'Interference checked (Y\/N)', 'Colloidal stability checked (Y\/N)', 'Positive control (Y\/N)',\n",
    "                        'Cell age: embryonic (E), Adult (A)', 'Cell-organ\/tissue source'])"
   ],
   "execution_count":7,
   "outputs":[
    
   ],
   "metadata":{
    "datalore":{
     "type":"CODE",
     "hide_input_from_viewers":false,
     "hide_output_from_viewers":false,
     "node_id":"iOFYiPOhhLJNTqVJ6ST2kF"
    }
   }
  },
  {
   "cell_type":"code",
   "source":[
    "#Исправили некорректные значения\n",
    "NP_db2 = {'Zinc oxide': 'ZnO', 'Copper Oxide': 'CuO',  'Iron oxide': 'Fe2O3', 'Hydroxyapatite': 'Ca10(PO4)6(OH)2', 'QDs': 'C'}\n",
    "db2['nanoparticle'].replace(NP_db2, inplace = True)\n",
    "db2.loc[21, 'cell_morphology'] = 'Endothelial'"
   ],
   "execution_count":8,
   "outputs":[
    
   ],
   "metadata":{
    "datalore":{
     "type":"CODE",
     "hide_input_from_viewers":false,
     "hide_output_from_viewers":false,
     "node_id":"jgiFyiqkQx4rBMyQQo4pXy"
    }
   }
  },
  {
   "cell_type":"code",
   "source":[
    "#Добавили молярную массу и электроотрицательность для частиц с формулой\n",
    "db2['molar_mass'] = [Composition(cp.parse_formula(db2.loc[x, 'nanoparticle'])).weight if x < 2274 else np.nan for x in range(2896)]\n",
    "db2['electronegativity'] = [Composition(cp.parse_formula(db2.loc[x, 'nanoparticle'])).average_electroneg if x < 2274 else np.nan for x in range(2896)]"
   ],
   "execution_count":9,
   "outputs":[
    
   ],
   "metadata":{
    "datalore":{
     "type":"CODE",
     "hide_input_from_viewers":false,
     "hide_output_from_viewers":false,
     "node_id":"tR5NJ4uUUNbwFpo5oMMHnp"
    }
   }
  },
  {
   "cell_type":"code",
   "source":[
    "#Добавили молярную массу для остальных частиц\n",
    "db2.loc[db2.nanoparticle == 'Eudragit RL', 'molar_mass'] = 231.29\n",
    "db2.loc[db2.nanoparticle == 'Dendrimer', 'molar_mass'] = 516.7\n",
    "db2.loc[db2.nanoparticle == 'PLGA', 'molar_mass'] = 148.11\n",
    "db2.loc[db2.nanoparticle == 'Polystyrene', 'molar_mass'] = 104.1\n",
    "db2.loc[db2.nanoparticle == 'Liposomes', 'molar_mass'] = 938.1\n",
    "db2.loc[db2.nanoparticle == 'Carbon Nanotubes', 'molar_mass'] = 12.01\n",
    "db2.loc[db2.nanoparticle == 'Carbon NP', 'molar_mass'] = 12.01\n",
    "db2.loc[db2.nanoparticle == 'Chitosan', 'molar_mass'] = 501.5\n",
    "db2.loc[db2.nanoparticle == 'SLN', 'molar_mass'] = db2.molar_mass.mean()"
   ],
   "execution_count":10,
   "outputs":[
    
   ],
   "metadata":{
    "datalore":{
     "type":"CODE",
     "hide_input_from_viewers":false,
     "hide_output_from_viewers":false,
     "node_id":"9t7I0iA1CP4uMFN4iR3O7l"
    }
   }
  },
  {
   "cell_type":"code",
   "source":[
    "#Перевели концентрацию в нужные единицы измерения\n",
    "db2['concentration_ug\/mL'] = db2['concentration_ug\/mL'] * db2['molar_mass'] \/ 1000"
   ],
   "execution_count":11,
   "outputs":[
    
   ],
   "metadata":{
    "datalore":{
     "type":"CODE",
     "hide_input_from_viewers":false,
     "hide_output_from_viewers":false,
     "node_id":"N3jfevCCIr77wNLpiStahR"
    }
   }
  },
  {
   "cell_type":"code",
   "source":[
    "#Добавили плотность заряда для частиц с формулой\n",
    "db2['charge_density'] = [db_fill(db2, x) if x < 2274 else np.nan for x in range(2896)]"
   ],
   "execution_count":12,
   "outputs":[
    
   ],
   "metadata":{
    "datalore":{
     "type":"CODE",
     "hide_input_from_viewers":false,
     "hide_output_from_viewers":false,
     "node_id":"1hAFmEAWwey7CMDogg4MZU"
    }
   }
  },
  {
   "cell_type":"code",
   "source":[
    "#Исправили некорректные значения для четвертой базы данных\n",
    "db4.loc[[24, 493], 'Material type'] = 'ZnO'\n",
    "db4.loc[126, 'Material type'] = 'Al2O3'\n",
    "db4.loc[6, 'Hydro size (nm)'] = 202.8\n",
    "\n",
    "#Объединили первую и четвертую базы данных\n",
    "db14 = pd.concat([db1, db4], ignore_index=True, sort=False)\n",
    "\n",
    "#В объединенной базе данных добавили новые дескрипторы с дефолтными значениями\n",
    "db14['organic'] = 1\n",
    "db14['time_h'] = 24\n",
    "db14['animal'] = 1\n",
    "db14['coating'] = 'None'\n",
    "db14['test'] = 'Unknown'\n",
    "db14['cell_line'] = 'Unknown'\n",
    "db14['cell_morphology'] = 'Epithelial'\n",
    "\n",
    "#Переименовали колонки, а также убрали лишние\n",
    "db14 = db14.drop(['Elements', 'Electronegativity', 'Ionic radius', 'Core size (nm)',\n",
    "                  'Surface area (m2\/g)', 'Number of atoms', 'Molecular weight (g\/mol)', \n",
    "                  'Topological polar surface area (Å²)', 'a (Å)', 'b (Å)', 'c (Å)', 'α (°)', 'β (°)', 'γ (°)', 'Density (g\/cm3)'], axis=1)\n",
    "db14 = db14.rename(columns={'Material type': 'nanoparticle', 'Hydro size (nm)': 'size_nm', \n",
    "                            'Surface charge (mV)': 'surface_charge_mV', 'Cell type': 'cell_type', \n",
    "                            'Exposure dose (ug\/mL)': 'concentration_ug\/mL', 'Viability (%)': 'viability_%'})\n",
    "\n",
    "#Исправляем значения\n",
    "db14.loc[203, 'size_nm'] = 114.7\n",
    "db14.loc[884, 'size_nm'] = 230.5\n",
    "db14.loc[[884, 620], 'surface_charge_mV'] = 0.0\n",
    "db14.loc[647, 'concentration_ug\/mL'] = 37.5\n",
    "\n",
    "#Добавили молярную массу для частиц с формулой\n",
    "db14['molar_mass'] = [Composition(cp.parse_formula(db14.loc[x, 'nanoparticle'])).weight for x in range(1562)]\n",
    "db14['electronegativity'] = [Composition(cp.parse_formula(db14.loc[x, 'nanoparticle'])).average_electroneg for x in range(1562)]\n",
    "db14['charge_density'] = [db_fill(db14, x) for x in range(1562)]"
   ],
   "execution_count":297,
   "outputs":[
    
   ],
   "metadata":{
    "datalore":{
     "type":"CODE",
     "hide_input_from_viewers":false,
     "hide_output_from_viewers":false,
     "node_id":"FYgUxOcsxkGHu4nlc0eQw8"
    }
   }
  },
  {
   "cell_type":"code",
   "source":[
    "#Переименовали колонки, а также убрали лишние для базы данных 5\n",
    "db5 = db5.drop(['core_size', 'surf_area', 'toxicity'], axis=1)\n",
    "db5 = db5.rename(columns={'material': 'nanoparticle', 'hydro_size': 'size_nm', \n",
    "                            'surf_charge': 'surface_charge_mV', 'dose': 'concentration_ug\/mL', \n",
    "                            'cell_species': 'animal', 'viability': 'viability_%', 'time': 'time_h'})\n",
    "\n",
    "#Добавили новые дескрипторы с дефолтными значениями\n",
    "db5['coating'] = 'None'\n",
    "db5['test'] = 'Unknown'\n",
    "db5['organic'] = 1\n",
    "db5['cell_morphology'] = 'Epithelial'\n",
    "db5['cell_line'] = 'Unknown'\n",
    "\n",
    "#Исправили значения\n",
    "db5.loc[21, 'surface_charge_mV'] = 42.8\n",
    "\n",
    "#Добавили молярную массу для частиц с формулой\n",
    "db5['molar_mass'] = [Composition(cp.parse_formula(db5.loc[x, 'nanoparticle'])).weight for x in range(574)]\n",
    "db5['electronegativity'] = [Composition(cp.parse_formula(db5.loc[x, 'nanoparticle'])).average_electroneg for x in range(574)]\n",
    "db5['charge_density'] = [db_fill(db5, x) for x in range(574)]"
   ],
   "execution_count":298,
   "outputs":[
    
   ],
   "metadata":{
    "datalore":{
     "type":"CODE",
     "hide_input_from_viewers":false,
     "hide_output_from_viewers":false,
     "node_id":"jPFU0cV9mWGxi6fGAzyxdf"
    }
   }
  },
  {
   "cell_type":"code",
   "source":[
    "#SLN - Solid lipid nanoparticles, QD - Quantum dots, PLGA - Polyester, PTFE-PMMA - polytetrafluoroethylene-poly(methyl methacrylate) \n",
    "#MWCNT - Multi-walled Carbon Nanotubes, SWCNT - Single-wall carbon nanotubes, EudragitRL - copolymer\n",
    "\n",
    "#Переименовали колонки, а также убрали лишние для базы данных 3\n",
    "db3 = db3.rename(columns={'Material': 'nanoparticle', 'Type': 'organic', 'Coat\/Functional Group': 'coating', \n",
    "                          'Size_in_Water (nm)': 'size_nm', 'Zeta_in_Water (mV)': 'surface_charge_mV', \n",
    "                          'Cell_Type': 'cell_type', 'Human_Animal': 'animal', 'Time (hr)': 'time_h', \n",
    "                          'Concentration (ug\/ml)': 'concentration_ug\/mL', 'Test': 'test', \n",
    "                          'Cell_Viability (%)': 'viability_%', 'Cell Line_Primary Cell': 'cell_line',\n",
    "                          'Cell_Morphology': 'cell_morphology', 'Cell_Tissue': 'cell_origin'})\n",
    "\n",
    "db3 = db3.drop(columns=['No', 'Year', 'DOI', 'Article_ID', 'PDI', 'No_of_Cells (cells\/well)', 'Aspect_Ratio', \n",
    "                        'Shape', 'Synthesis_Method', 'Surface_Charge', 'Cell_Source','Cell_Age', 'Test_Indicator'])\n",
    "\n",
    "#Исправили значения\n",
    "material = {'IronOxide':'Fe2O3', 'Dendrmer':'Dendrimer', 'Ay':'Fe', 'Ce O2': 'CeO2', 'IronOide':'Fe2O3', 'QD': 'C', 'HAP': 'Ca10(PO4)6(OH)2'}\n",
    "db3['nanoparticle'].replace(material, inplace=True) \n",
    "db3.loc[320, 'surface_charge_mV'] = 150 \n",
    "db3['surface_charge_mV'] = pd.to_numeric(db3['surface_charge_mV'])\n",
    "\n",
    "#Так как не везде у нас есть размер для воды, то там где его нет он был заменен на размер в растворителе, а если и его не было то просто на размер \n",
    "db3.loc[np.isnan(db3[\"Size_in_Medium (nm)\"]), \"Size_in_Medium (nm)\"] = db3.loc[np.isnan(db3[\"Size_in_Medium (nm)\"]), \"Diameter (nm)\"]\n",
    "db3.loc[np.isnan(db3[\"size_nm\"]), \"size_nm\"] = db3.loc[np.isnan(db3[\"size_nm\"]), \"Size_in_Medium (nm)\"]\n",
    "db3 = db3.drop(['Size_in_Medium (nm)', 'Diameter (nm)'], axis=1)\n",
    "\n",
    "#Аналогично было сделано для заряда\n",
    "db3.loc[np.isnan(db3[\"surface_charge_mV\"]), \"surface_charge_mV\"] = db3.loc[np.isnan(db3[\"surface_charge_mV\"]), \"Zeta_in_Medium (mV)\"]\n",
    "db3 = db3.drop(['Zeta_in_Medium (mV)'], axis=1)"
   ],
   "execution_count":299,
   "outputs":[
    
   ],
   "metadata":{
    "datalore":{
     "type":"CODE",
     "hide_input_from_viewers":false,
     "hide_output_from_viewers":false,
     "node_id":"ZbPQ5roTnGclFi9H9v2l9z"
    }
   }
  },
  {
   "cell_type":"code",
   "source":[
    "#Добавили молярную массу для частиц без формулы\n",
    "db3.loc[db3.nanoparticle == 'Dendrimer', 'molar_mass'] = 516.7\n",
    "db3.loc[db3.nanoparticle == 'PLGA', 'molar_mass'] = 148.11\n",
    "db3.loc[db3.nanoparticle == 'Alginate', 'molar_mass'] = 216.12\n",
    "db3.loc[db3.nanoparticle == 'PTFE-PMMA', 'molar_mass'] = 100.12\n",
    "db3.loc[db3.nanoparticle == 'Dendrimer', 'molar_mass'] = 516.7\n",
    "db3.loc[db3.nanoparticle == 'MWCNT', 'molar_mass'] = 12.01\n",
    "db3.loc[db3.nanoparticle == 'Polystyrene', 'molar_mass'] = 104.1\n",
    "db3.loc[db3.nanoparticle == 'Chitosan', 'molar_mass'] = 501.5\n",
    "db3.loc[db3.nanoparticle == 'EudragitRL', 'molar_mass'] = 231.29\n",
    "db3.loc[db3.nanoparticle == 'Carbon', 'molar_mass'] = 12.01\n",
    "db3.loc[db3.nanoparticle == 'SWCNT', 'molar_mass'] = 12.01\n",
    "db3.loc[db3.nanoparticle == 'MWCNT', 'molar_mass'] = 12.01\n",
    "db3.loc[db3.nanoparticle == 'Diamond', 'molar_mass'] = 12.01\n",
    "db3.loc[db3.nanoparticle == 'C70', 'molar_mass'] = 840.7\n",
    "db3.loc[db3.nanoparticle == 'C60', 'molar_mass'] = 720.66\n",
    "db3.loc[db3.nanoparticle == 'Graphite', 'molar_mass'] = 12.01\n",
    "db3.loc[db3.nanoparticle == 'SLN', 'molar_mass'] = db3.molar_mass.mean()"
   ],
   "execution_count":300,
   "outputs":[
    
   ],
   "metadata":{
    "datalore":{
     "type":"CODE",
     "hide_input_from_viewers":false,
     "hide_output_from_viewers":false,
     "node_id":"5hzYVg16765GjzZgEjsPAH"
    }
   }
  },
  {
   "cell_type":"code",
   "source":[
    "#Добавили молярную массу для частиц с формулой\n",
    "db3['molar_mass'] = [Composition(cp.parse_formula(db3.loc[x, 'nanoparticle'])).weight \n",
    "if np.isnan(db3.loc[x, 'molar_mass']) else db3.loc[x, 'molar_mass'] for x in range(4111)]"
   ],
   "execution_count":301,
   "outputs":[
    
   ],
   "metadata":{
    "datalore":{
     "type":"CODE",
     "hide_input_from_viewers":false,
     "hide_output_from_viewers":false,
     "node_id":"mhT8aQC6arCLWVzpXUZkXQ"
    }
   }
  },
  {
   "cell_type":"code",
   "source":[
    "#Создали массив частиц для которых нет явной формулы и нельзя найти электроотрицательность и плотность заряда\n",
    "org = ['Dendrimer', 'PLGA', 'Alginate', 'PTFE-PMMA', 'Dendrimer', 'MWCNT', 'Polystyrene', 'Chitosan', 'EudragitRL', 'Carbon', 'SWCNT',\n",
    "       'MWCNT', 'Diamond', 'C70', 'C60', 'Graphite', 'SLN']"
   ],
   "execution_count":302,
   "outputs":[
    
   ],
   "metadata":{
    "datalore":{
     "type":"CODE",
     "hide_input_from_viewers":false,
     "hide_output_from_viewers":false,
     "node_id":"jI8REaGWLFW2BLsFr6t1ME"
    }
   }
  },
  {
   "cell_type":"code",
   "source":[
    "#Добавили электроотрицательность для частиц с формулой\n",
    "db3['electronegativity'] = [Composition(cp.parse_formula(db3.loc[x, 'nanoparticle'])).average_electroneg if db3.loc[x, 'nanoparticle'] not in org else np.nan for x in range(4111)]"
   ],
   "execution_count":303,
   "outputs":[
    
   ],
   "metadata":{
    "datalore":{
     "type":"CODE",
     "hide_input_from_viewers":false,
     "hide_output_from_viewers":false,
     "node_id":"fRLy4qTfszDlzKky7ep6pe"
    }
   }
  },
  {
   "cell_type":"code",
   "source":[
    "#Добавили плотность заряда для частиц с формулой\n",
    "db3['charge_density'] = [db_fill(db3, x) if db3.loc[x, 'nanoparticle'] not in org else np.nan for x in range(4111)]"
   ],
   "execution_count":304,
   "outputs":[
    
   ],
   "metadata":{
    "datalore":{
     "type":"CODE",
     "hide_input_from_viewers":false,
     "hide_output_from_viewers":false,
     "node_id":"X8odznrdqSKO4Bkf7v3mNW"
    }
   }
  },
  {
   "cell_type":"code",
   "source":[
    "#Собрали все базы данных в одну\n",
    "db_final = pd.concat([db14, db5, db2, db3], ignore_index=True, sort=False)"
   ],
   "execution_count":305,
   "outputs":[
    
   ],
   "metadata":{
    "datalore":{
     "type":"CODE",
     "hide_input_from_viewers":false,
     "hide_output_from_viewers":false,
     "node_id":"rgMd3sXMWppTkxTfmxsFOs"
    }
   }
  },
  {
   "cell_type":"code",
   "source":[
    "#Убрали лишнюю колонку\n",
    "db_final = db_final.drop(columns=['cell_origin'])"
   ],
   "execution_count":306,
   "outputs":[
    
   ],
   "metadata":{
    "datalore":{
     "type":"CODE",
     "hide_input_from_viewers":false,
     "hide_output_from_viewers":false,
     "node_id":"KYNA80C4tihh1hL1bcQ6hC"
    }
   }
  },
  {
   "cell_type":"code",
   "source":[
    "#Исправили параметр organic_type\n",
    "organic_type = {'I':1, 'O':0, 'C':1}\n",
    "db_final['organic'].replace(organic_type, inplace=True) "
   ],
   "execution_count":307,
   "outputs":[
    
   ],
   "metadata":{
    "datalore":{
     "type":"CODE",
     "hide_input_from_viewers":false,
     "hide_output_from_viewers":false,
     "node_id":"sT44COLnKPX5nKH6mxarOD"
    }
   }
  },
  {
   "cell_type":"code",
   "source":[
    "#Исправили параметр animal\n",
    "animal = {'Hamster': 0, 'Mouse': 0, 'A': 0, 'Human': 1, 'H': 1} #в предположении, что 0 - Animal, 1 - Human\n",
    "db_final['animal'].replace(animal, inplace=True)"
   ],
   "execution_count":308,
   "outputs":[
    
   ],
   "metadata":{
    "datalore":{
     "type":"CODE",
     "hide_input_from_viewers":false,
     "hide_output_from_viewers":false,
     "node_id":"z8mNgO8a26bJOFPirtstzy"
    }
   }
  },
  {
   "cell_type":"code",
   "source":[
    "#Исправили параметр cell_line\n",
    "line = {'Unknown': 0, 'L': 1, 'P': 2} #в предположении, что 0 - Unknown, 1 - клеточная линия, 2 - отобрано непосредственно из организма\n",
    "db_final['cell_line'].replace(line, inplace=True)"
   ],
   "execution_count":309,
   "outputs":[
    
   ],
   "metadata":{
    "datalore":{
     "type":"CODE",
     "hide_input_from_viewers":false,
     "hide_output_from_viewers":false,
     "node_id":"0OuF6znMf9VWWijwUKBaYz"
    }
   }
  },
  {
   "cell_type":"code",
   "source":[
    "#Исправили параметр cell_morphology\n",
    "db_final['cell_morphology'].fillna('Epithelial', inplace=True)\n",
    "morphology = {'Epithelial':1, 'Fibroblast':2, 'Endothelial':3,\n",
    "       'Monocyte\/Macrophage':4, 'Lymphoblast':5, 'Monocyte':4,\n",
    "       'Endothelial-like':3, 'Irregular':0, 'Spindle':7, 'Neuronal':6,\n",
    "       'Macrophage':4, 'Mesenchymal':8, 'Keratinocyte':9, 'Polygonal':0,\n",
    "       'Epithelial-like':1, 'Osteoblast':10, 'Mixed':0, 'MulticellularClusters':0}\n",
    "db_final['cell_morphology'].replace(morphology, inplace=True)"
   ],
   "execution_count":310,
   "outputs":[
    
   ],
   "metadata":{
    "datalore":{
     "type":"CODE",
     "hide_input_from_viewers":false,
     "hide_output_from_viewers":false,
     "node_id":"cO7eMn2sPzRi1R9hsv2y3K"
    }
   }
  },
  {
   "cell_type":"code",
   "source":[
    "#Прочитали заранее созданные словари соответсвия каждого конкретного значения признака некоторой группе\n",
    "cell_map = pd.read_csv('cell_map.csv')\n",
    "coat_map = pd.read_csv('coat_map.csv')\n",
    "test_map = pd.read_csv('test_map.csv')"
   ],
   "execution_count":311,
   "outputs":[
    
   ],
   "metadata":{
    "datalore":{
     "type":"CODE",
     "hide_input_from_viewers":false,
     "hide_output_from_viewers":false,
     "node_id":"4jXIWvibgBlZ0TbJvoK7N7"
    }
   }
  },
  {
   "cell_type":"code",
   "source":[
    "#Исправили параметр cell_type\n",
    "db_final['cell_type'] = db_final['cell_type'].map(cell_map.set_index('name')['type'])\n",
    "db_final['cell_type'].fillna(0, inplace=True)\n",
    "type = {'Normal': 0, 'Cancer': 1} #в предположении, что 0 - Normal, 1 - Cancer\n",
    "db_final['cell_type'].replace(type, inplace=True)"
   ],
   "execution_count":312,
   "outputs":[
    
   ],
   "metadata":{
    "datalore":{
     "type":"CODE",
     "hide_input_from_viewers":false,
     "hide_output_from_viewers":false,
     "node_id":"PQL9Izuye3TILmP1uEoNiH"
    }
   }
  },
  {
   "cell_type":"code",
   "source":[
    "#Исправили параметр coating\n",
    "# 0\tnone, 1\tamin\/aminoacid\/protein, 2\talcohol, 3\timide, 4\tether, 5\tacid\/salt, 6\tCnHn, 7\tother\n",
    "db_final['coating'] = db_final['coating'].map(coat_map.set_index('name')['type'])\n",
    "db_final['coating'].fillna(0, inplace=True)"
   ],
   "execution_count":313,
   "outputs":[
    
   ],
   "metadata":{
    "datalore":{
     "type":"CODE",
     "hide_input_from_viewers":false,
     "hide_output_from_viewers":false,
     "node_id":"xitSi5f5WQUB3m5GqeLnvT"
    }
   }
  },
  {
   "cell_type":"code",
   "source":[
    "#Исправили параметр test\n",
    "#0\tUnknown, 1\tMTT, 2\tXTT, 3\tNR, 4\tLDH, 5\tMTS, 6\tLive\/Dead, 7\tWST­1, 8\tCellTiter­Blue, 9\tCellTiter­Glo, 10\tATPLite, 11\tAlamar Blue, 12\tResazurin, 13\tApoTox­Glo™ Triplex, 14\tCytoTox­One™, 15\tCVS, 16\tEZ4U\n",
    "db_final['test'] = db_final['test'].map(test_map.set_index('name')['type'])\n",
    "db_final['test'].fillna(0, inplace=True) "
   ],
   "execution_count":314,
   "outputs":[
    
   ],
   "metadata":{
    "datalore":{
     "type":"CODE",
     "hide_input_from_viewers":false,
     "hide_output_from_viewers":false,
     "node_id":"ia1etkF69w3UXXERCf1AnM"
    }
   }
  },
  {
   "cell_type":"code",
   "source":[
    "#Записали исправленную объединенную базу данных в файл\n",
    "db_final.to_excel(\"final_data.xlsx\")"
   ],
   "execution_count":316,
   "outputs":[
    
   ],
   "metadata":{
    "datalore":{
     "type":"CODE",
     "hide_input_from_viewers":false,
     "hide_output_from_viewers":false,
     "node_id":"Wl424OF0UnS111ElZ7BlmC"
    }
   }
  }
 ],
 "metadata":{
  "kernelspec":{
   "display_name":"Python",
   "language":"python",
   "name":"python"
  },
  "datalore":{
   "version":1,
   "computation_mode":"JUPYTER",
   "package_manager":"pip",
   "base_environment":"default",
   "packages":[
    
   ]
  }
 },
 "nbformat":4,
 "nbformat_minor":4
}